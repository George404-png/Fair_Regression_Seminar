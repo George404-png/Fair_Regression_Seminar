{
 "cells": [
  {
   "cell_type": "code",
   "execution_count": 1,
   "id": "c576f343-5c6f-4d72-b84a-5783b5c69ae7",
   "metadata": {},
   "outputs": [],
   "source": [
    "import warnings\n",
    "\n",
    "warnings.filterwarnings(\"ignore\")\n",
    "\n",
    "import math\n",
    "from math import sqrt\n",
    "\n",
    "import LESS_main.less.less_reductions as ls\n",
    "import LESS_main.less.less_reweighing as lsr\n",
    "import matplotlib.pyplot as plt\n",
    "import numpy as np\n",
    "import pandas as pd\n",
    "import seaborn as sns\n",
    "import torch\n",
    "import torch.nn as nn\n",
    "from fairlearn import preprocessing, reductions\n",
    "from fairlearn.metrics import MetricFrame, count, selection_rate\n",
    "from fairlearn.reductions import (\n",
    "    BoundedGroupLoss,\n",
    "    DemographicParity,\n",
    "    ErrorRate,\n",
    "    GridSearch,\n",
    "    SquareLoss,\n",
    "    ZeroOneLoss,\n",
    ")\n",
    "from LESS_main.less.less import LESSRegressor\n",
    "from scipy.stats import kde\n",
    "from sklearn.linear_model import LinearRegression\n",
    "from sklearn.metrics import mean_squared_error\n",
    "from sklearn.model_selection import train_test_split\n",
    "from sklearn.preprocessing import KBinsDiscretizer\n",
    "from tqdm import tqdm\n",
    "\n",
    "from fair_dummies import fair_dummies_learning, utility_functions\n",
    "\n",
    "seed = 123"
   ]
  },
  {
   "cell_type": "markdown",
   "id": "29018882-af86-4a06-8fa9-8fc6e615cba0",
   "metadata": {},
   "source": [
    "# Student Performance dataset"
   ]
  },
  {
   "cell_type": "code",
   "execution_count": 2,
   "id": "213833cf-0e2c-49bb-8981-cbf71c6fba6c",
   "metadata": {},
   "outputs": [],
   "source": [
    "# Importing student performance dataset\n",
    "df1 = pd.read_csv(\"student-mat.csv\", delimiter=\";\")\n",
    "df2 = pd.read_csv(\"student-por.csv\", delimiter=\";\")\n",
    "\n",
    "df = pd.concat([df1, df2])\n",
    "df = df[\n",
    "    [\n",
    "        \"G3\",\n",
    "        \"G2\",\n",
    "        \"G1\",\n",
    "        \"sex\",\n",
    "        \"failures\",\n",
    "        \"higher\",\n",
    "        \"Medu\",\n",
    "        \"school\",\n",
    "        \"studytime\",\n",
    "        \"Fedu\",\n",
    "    ]\n",
    "]"
   ]
  },
  {
   "cell_type": "code",
   "execution_count": 3,
   "id": "9b083511-5b54-481a-bd4e-795975f7f8a5",
   "metadata": {},
   "outputs": [
    {
     "data": {
      "text/html": [
       "<div>\n",
       "<style scoped>\n",
       "    .dataframe tbody tr th:only-of-type {\n",
       "        vertical-align: middle;\n",
       "    }\n",
       "\n",
       "    .dataframe tbody tr th {\n",
       "        vertical-align: top;\n",
       "    }\n",
       "\n",
       "    .dataframe thead th {\n",
       "        text-align: right;\n",
       "    }\n",
       "</style>\n",
       "<table border=\"1\" class=\"dataframe\">\n",
       "  <thead>\n",
       "    <tr style=\"text-align: right;\">\n",
       "      <th></th>\n",
       "      <th>G3</th>\n",
       "      <th>G2</th>\n",
       "      <th>G1</th>\n",
       "      <th>failures</th>\n",
       "      <th>Medu</th>\n",
       "      <th>studytime</th>\n",
       "      <th>Fedu</th>\n",
       "      <th>female</th>\n",
       "      <th>higher</th>\n",
       "      <th>school_GP</th>\n",
       "    </tr>\n",
       "  </thead>\n",
       "  <tbody>\n",
       "    <tr>\n",
       "      <th>0</th>\n",
       "      <td>6</td>\n",
       "      <td>6</td>\n",
       "      <td>5</td>\n",
       "      <td>0</td>\n",
       "      <td>4</td>\n",
       "      <td>2</td>\n",
       "      <td>4</td>\n",
       "      <td>1</td>\n",
       "      <td>1</td>\n",
       "      <td>1</td>\n",
       "    </tr>\n",
       "    <tr>\n",
       "      <th>1</th>\n",
       "      <td>6</td>\n",
       "      <td>5</td>\n",
       "      <td>5</td>\n",
       "      <td>0</td>\n",
       "      <td>1</td>\n",
       "      <td>2</td>\n",
       "      <td>1</td>\n",
       "      <td>1</td>\n",
       "      <td>1</td>\n",
       "      <td>1</td>\n",
       "    </tr>\n",
       "    <tr>\n",
       "      <th>2</th>\n",
       "      <td>10</td>\n",
       "      <td>8</td>\n",
       "      <td>7</td>\n",
       "      <td>3</td>\n",
       "      <td>1</td>\n",
       "      <td>2</td>\n",
       "      <td>1</td>\n",
       "      <td>1</td>\n",
       "      <td>1</td>\n",
       "      <td>1</td>\n",
       "    </tr>\n",
       "    <tr>\n",
       "      <th>3</th>\n",
       "      <td>15</td>\n",
       "      <td>14</td>\n",
       "      <td>15</td>\n",
       "      <td>0</td>\n",
       "      <td>4</td>\n",
       "      <td>3</td>\n",
       "      <td>2</td>\n",
       "      <td>1</td>\n",
       "      <td>1</td>\n",
       "      <td>1</td>\n",
       "    </tr>\n",
       "    <tr>\n",
       "      <th>4</th>\n",
       "      <td>10</td>\n",
       "      <td>10</td>\n",
       "      <td>6</td>\n",
       "      <td>0</td>\n",
       "      <td>3</td>\n",
       "      <td>2</td>\n",
       "      <td>3</td>\n",
       "      <td>1</td>\n",
       "      <td>1</td>\n",
       "      <td>1</td>\n",
       "    </tr>\n",
       "  </tbody>\n",
       "</table>\n",
       "</div>"
      ],
      "text/plain": [
       "   G3  G2  G1  failures  Medu  studytime  Fedu  female  higher  school_GP\n",
       "0   6   6   5         0     4          2     4       1       1          1\n",
       "1   6   5   5         0     1          2     1       1       1          1\n",
       "2  10   8   7         3     1          2     1       1       1          1\n",
       "3  15  14  15         0     4          3     2       1       1          1\n",
       "4  10  10   6         0     3          2     3       1       1          1"
      ]
     },
     "execution_count": 3,
     "metadata": {},
     "output_type": "execute_result"
    }
   ],
   "source": [
    "# Creating dummies for sensitive attribute, higher education and school variables\n",
    "female = pd.get_dummies(df[\"sex\"])\n",
    "higher_education = pd.get_dummies(df[\"higher\"])\n",
    "school_GP = pd.get_dummies(df[\"higher\"])\n",
    "\n",
    "df = pd.concat([df, female, higher_education], axis=\"columns\")\n",
    "df = df.drop([\"higher\", \"no\", \"sex\", \"M\"], axis=1)\n",
    "df = df.rename(columns={\"F\": \"female\", \"yes\": \"higher\"})\n",
    "\n",
    "df = pd.concat([df, school_GP], axis=\"columns\")\n",
    "df = df.drop([\"school\", \"no\"], axis=1)\n",
    "df = df.rename(columns={\"yes\": \"school_GP\"})\n",
    "\n",
    "df.head()"
   ]
  },
  {
   "cell_type": "code",
   "execution_count": 4,
   "id": "3c3b942e-d84d-4e5d-8036-ff797c2926fc",
   "metadata": {},
   "outputs": [],
   "source": [
    "# Establishing dependent and independent variables\n",
    "X = list(df.columns)\n",
    "Y = X[len(X) - 10]\n",
    "\n",
    "del X[len(X) - 10]\n",
    "Y, X\n",
    "\n",
    "train_df = df.dropna()"
   ]
  },
  {
   "cell_type": "code",
   "execution_count": 5,
   "id": "b3c4c81d-45fd-4ec1-ab64-fed01b4d7d15",
   "metadata": {},
   "outputs": [],
   "source": [
    "# Generating train-test split\n",
    "X_train, X_test, y_train, y_test = train_test_split(\n",
    "    train_df[X], train_df[Y], test_size=0.3, random_state=seed\n",
    ")"
   ]
  },
  {
   "cell_type": "code",
   "execution_count": 6,
   "id": "5ea15460-49ec-44b3-b3f5-e4227881dc90",
   "metadata": {},
   "outputs": [
    {
     "data": {
      "text/html": [
       "<div>\n",
       "<style scoped>\n",
       "    .dataframe tbody tr th:only-of-type {\n",
       "        vertical-align: middle;\n",
       "    }\n",
       "\n",
       "    .dataframe tbody tr th {\n",
       "        vertical-align: top;\n",
       "    }\n",
       "\n",
       "    .dataframe thead th {\n",
       "        text-align: right;\n",
       "    }\n",
       "</style>\n",
       "<table border=\"1\" class=\"dataframe\">\n",
       "  <thead>\n",
       "    <tr style=\"text-align: right;\">\n",
       "      <th></th>\n",
       "      <th>female</th>\n",
       "      <th>G2</th>\n",
       "      <th>G1</th>\n",
       "      <th>failures</th>\n",
       "      <th>Medu</th>\n",
       "      <th>studytime</th>\n",
       "      <th>Fedu</th>\n",
       "      <th>higher</th>\n",
       "      <th>school_GP</th>\n",
       "    </tr>\n",
       "  </thead>\n",
       "  <tbody>\n",
       "    <tr>\n",
       "      <th>299</th>\n",
       "      <td>0</td>\n",
       "      <td>15</td>\n",
       "      <td>16</td>\n",
       "      <td>0</td>\n",
       "      <td>4</td>\n",
       "      <td>1</td>\n",
       "      <td>4</td>\n",
       "      <td>1</td>\n",
       "      <td>1</td>\n",
       "    </tr>\n",
       "    <tr>\n",
       "      <th>313</th>\n",
       "      <td>1</td>\n",
       "      <td>13</td>\n",
       "      <td>13</td>\n",
       "      <td>0</td>\n",
       "      <td>1</td>\n",
       "      <td>2</td>\n",
       "      <td>1</td>\n",
       "      <td>1</td>\n",
       "      <td>1</td>\n",
       "    </tr>\n",
       "    <tr>\n",
       "      <th>320</th>\n",
       "      <td>1</td>\n",
       "      <td>12</td>\n",
       "      <td>14</td>\n",
       "      <td>1</td>\n",
       "      <td>4</td>\n",
       "      <td>2</td>\n",
       "      <td>4</td>\n",
       "      <td>1</td>\n",
       "      <td>1</td>\n",
       "    </tr>\n",
       "    <tr>\n",
       "      <th>434</th>\n",
       "      <td>1</td>\n",
       "      <td>9</td>\n",
       "      <td>10</td>\n",
       "      <td>0</td>\n",
       "      <td>2</td>\n",
       "      <td>4</td>\n",
       "      <td>2</td>\n",
       "      <td>0</td>\n",
       "      <td>0</td>\n",
       "    </tr>\n",
       "    <tr>\n",
       "      <th>63</th>\n",
       "      <td>1</td>\n",
       "      <td>13</td>\n",
       "      <td>14</td>\n",
       "      <td>0</td>\n",
       "      <td>4</td>\n",
       "      <td>3</td>\n",
       "      <td>3</td>\n",
       "      <td>1</td>\n",
       "      <td>1</td>\n",
       "    </tr>\n",
       "  </tbody>\n",
       "</table>\n",
       "</div>"
      ],
      "text/plain": [
       "     female  G2  G1  failures  Medu  studytime  Fedu  higher  school_GP\n",
       "299       0  15  16         0     4          1     4       1          1\n",
       "313       1  13  13         0     1          2     1       1          1\n",
       "320       1  12  14         1     4          2     4       1          1\n",
       "434       1   9  10         0     2          4     2       0          0\n",
       "63        1  13  14         0     4          3     3       1          1"
      ]
     },
     "execution_count": 6,
     "metadata": {},
     "output_type": "execute_result"
    }
   ],
   "source": [
    "X_train = X_train[[\"female\"] + [col for col in X_train.columns if col != \"female\"]]\n",
    "X_test = X_test[[\"female\"] + [col for col in X_test.columns if col != \"female\"]]\n",
    "X_train.head()"
   ]
  },
  {
   "cell_type": "markdown",
   "id": "8d802789-2b1b-48b3-b511-ab0117ca4298",
   "metadata": {},
   "source": [
    "## Baseline Model Training"
   ]
  },
  {
   "cell_type": "markdown",
   "id": "c734decb-66ff-4b88-a455-7d4d5f833e9d",
   "metadata": {},
   "source": [
    "### Linear Regression Baseline"
   ]
  },
  {
   "cell_type": "code",
   "execution_count": 7,
   "id": "b690c218-374b-492e-8ec3-a4af6e0f5766",
   "metadata": {},
   "outputs": [],
   "source": [
    "linreg_baseline = LinearRegression()\n",
    "linreg_baseline.fit(X_train, y_train)\n",
    "y_linreg_baseline_pred = linreg_baseline.predict(X_test)"
   ]
  },
  {
   "cell_type": "markdown",
   "id": "9036e832-9454-4589-9164-ecb7140b0725",
   "metadata": {},
   "source": [
    "### LESS Baseline"
   ]
  },
  {
   "cell_type": "code",
   "execution_count": 8,
   "id": "e22fe792",
   "metadata": {},
   "outputs": [
    {
     "name": "stderr",
     "output_type": "stream",
     "text": [
      "100%|██████████| 20/20 [00:00<00:00, 99.94it/s]\n"
     ]
    }
   ],
   "source": [
    "LESS_model = LESSRegressor(frac=0.2, random_state=seed)\n",
    "LESS_model.fit(X_train, y_train)\n",
    "y_pred_baseline = LESS_model.predict(X_test)"
   ]
  },
  {
   "cell_type": "markdown",
   "id": "5089ac37-e50c-4f5c-8eab-644c7b5ee61d",
   "metadata": {},
   "source": [
    "## Correlation Remover"
   ]
  },
  {
   "cell_type": "code",
   "execution_count": 9,
   "id": "ccf7669e",
   "metadata": {},
   "outputs": [],
   "source": [
    "# Object used to remove correlation\n",
    "correlation_remover_train = preprocessing.CorrelationRemover(\n",
    "    sensitive_feature_ids=[\"female\"]\n",
    ")\n",
    "correlation_remover_train.fit(X_train, y_train)\n",
    "\n",
    "# Removing correlation from our training set\n",
    "X_train_uncorr = correlation_remover_train.transform(X_train)\n",
    "X_train_uncorr_wr = np.concatenate(\n",
    "    (np.array(X_train[\"female\"]).reshape(-1, 1), X_train_uncorr), axis=1\n",
    ")"
   ]
  },
  {
   "cell_type": "markdown",
   "id": "09e5878e-800c-4a6a-ad9c-255c5f1a4239",
   "metadata": {},
   "source": [
    "### Linear Regression with Correlation Remover"
   ]
  },
  {
   "cell_type": "code",
   "execution_count": 10,
   "id": "d35e42ca-28af-4e75-b2e7-ce323b8c87aa",
   "metadata": {},
   "outputs": [],
   "source": [
    "linreg_uncorr = LinearRegression()\n",
    "linreg_uncorr.fit(X_train_uncorr_wr, y_train)\n",
    "y_linreg_uncorr_pred = linreg_uncorr.predict(X_test)"
   ]
  },
  {
   "cell_type": "markdown",
   "id": "6be668b7-f4a7-470f-b649-8398fb18858a",
   "metadata": {},
   "source": [
    "### LESS with Correlation Remover"
   ]
  },
  {
   "cell_type": "code",
   "execution_count": 11,
   "id": "f5a27c60-4a28-4143-9cb3-391915108f5d",
   "metadata": {},
   "outputs": [
    {
     "name": "stderr",
     "output_type": "stream",
     "text": [
      "100%|██████████| 20/20 [00:00<00:00, 68.66it/s]\n"
     ]
    }
   ],
   "source": [
    "LESS_model_uncorr_wr = LESSRegressor(frac=0.2, random_state=seed)\n",
    "LESS_model_uncorr_wr.fit(X_train_uncorr_wr, y_train)\n",
    "y_pred_uncorr_wr = LESS_model_uncorr_wr.predict(X_test)"
   ]
  },
  {
   "cell_type": "markdown",
   "id": "90399d76-bf0f-4b03-a88a-c2f943d4e96b",
   "metadata": {},
   "source": [
    "## Discretisation and Reweighting"
   ]
  },
  {
   "cell_type": "code",
   "execution_count": 12,
   "id": "c4bde017-6065-47e5-9b96-b711bfc5b08b",
   "metadata": {},
   "outputs": [
    {
     "data": {
      "image/png": "[encoded data removed]",
      "text/plain": [
       "<Figure size 432x288 with 1 Axes>"
      ]
     },
     "metadata": {
      "needs_background": "light"
     },
     "output_type": "display_data"
    }
   ],
   "source": [
    "# Distribution of outcome variable\n",
    "sns.histplot(df[Y], kde=False, bins=10)\n",
    "plt.show()"
   ]
  },
  {
   "cell_type": "code",
   "execution_count": 13,
   "id": "dd10c2b1-7b7a-462d-81de-3b8b6fa213d5",
   "metadata": {},
   "outputs": [
    {
     "data": {
      "text/html": [
       "<div>\n",
       "<style scoped>\n",
       "    .dataframe tbody tr th:only-of-type {\n",
       "        vertical-align: middle;\n",
       "    }\n",
       "\n",
       "    .dataframe tbody tr th {\n",
       "        vertical-align: top;\n",
       "    }\n",
       "\n",
       "    .dataframe thead th {\n",
       "        text-align: right;\n",
       "    }\n",
       "</style>\n",
       "<table border=\"1\" class=\"dataframe\">\n",
       "  <thead>\n",
       "    <tr style=\"text-align: right;\">\n",
       "      <th></th>\n",
       "      <th>G3</th>\n",
       "      <th>G2</th>\n",
       "      <th>G1</th>\n",
       "      <th>failures</th>\n",
       "      <th>Medu</th>\n",
       "      <th>studytime</th>\n",
       "      <th>Fedu</th>\n",
       "      <th>female</th>\n",
       "      <th>higher</th>\n",
       "      <th>school_GP</th>\n",
       "      <th>grade class</th>\n",
       "    </tr>\n",
       "  </thead>\n",
       "  <tbody>\n",
       "    <tr>\n",
       "      <th>0</th>\n",
       "      <td>6</td>\n",
       "      <td>6</td>\n",
       "      <td>5</td>\n",
       "      <td>0</td>\n",
       "      <td>4</td>\n",
       "      <td>2</td>\n",
       "      <td>4</td>\n",
       "      <td>1</td>\n",
       "      <td>1</td>\n",
       "      <td>1</td>\n",
       "      <td>3.0</td>\n",
       "    </tr>\n",
       "    <tr>\n",
       "      <th>1</th>\n",
       "      <td>6</td>\n",
       "      <td>5</td>\n",
       "      <td>5</td>\n",
       "      <td>0</td>\n",
       "      <td>1</td>\n",
       "      <td>2</td>\n",
       "      <td>1</td>\n",
       "      <td>1</td>\n",
       "      <td>1</td>\n",
       "      <td>1</td>\n",
       "      <td>3.0</td>\n",
       "    </tr>\n",
       "    <tr>\n",
       "      <th>2</th>\n",
       "      <td>10</td>\n",
       "      <td>8</td>\n",
       "      <td>7</td>\n",
       "      <td>3</td>\n",
       "      <td>1</td>\n",
       "      <td>2</td>\n",
       "      <td>1</td>\n",
       "      <td>1</td>\n",
       "      <td>1</td>\n",
       "      <td>1</td>\n",
       "      <td>5.0</td>\n",
       "    </tr>\n",
       "    <tr>\n",
       "      <th>3</th>\n",
       "      <td>15</td>\n",
       "      <td>14</td>\n",
       "      <td>15</td>\n",
       "      <td>0</td>\n",
       "      <td>4</td>\n",
       "      <td>3</td>\n",
       "      <td>2</td>\n",
       "      <td>1</td>\n",
       "      <td>1</td>\n",
       "      <td>1</td>\n",
       "      <td>7.0</td>\n",
       "    </tr>\n",
       "    <tr>\n",
       "      <th>4</th>\n",
       "      <td>10</td>\n",
       "      <td>10</td>\n",
       "      <td>6</td>\n",
       "      <td>0</td>\n",
       "      <td>3</td>\n",
       "      <td>2</td>\n",
       "      <td>3</td>\n",
       "      <td>1</td>\n",
       "      <td>1</td>\n",
       "      <td>1</td>\n",
       "      <td>5.0</td>\n",
       "    </tr>\n",
       "  </tbody>\n",
       "</table>\n",
       "</div>"
      ],
      "text/plain": [
       "   G3  G2  G1  failures  Medu  studytime  Fedu  female  higher  school_GP  \\\n",
       "0   6   6   5         0     4          2     4       1       1          1   \n",
       "1   6   5   5         0     1          2     1       1       1          1   \n",
       "2  10   8   7         3     1          2     1       1       1          1   \n",
       "3  15  14  15         0     4          3     2       1       1          1   \n",
       "4  10  10   6         0     3          2     3       1       1          1   \n",
       "\n",
       "   grade class  \n",
       "0          3.0  \n",
       "1          3.0  \n",
       "2          5.0  \n",
       "3          7.0  \n",
       "4          5.0  "
      ]
     },
     "execution_count": 13,
     "metadata": {},
     "output_type": "execute_result"
    }
   ],
   "source": [
    "# Generating a column for outcome class\n",
    "est = KBinsDiscretizer(n_bins=10, encode=\"ordinal\", strategy=\"uniform\")\n",
    "Y_np = train_df[Y].to_numpy().reshape(-1, 1)\n",
    "est.fit(Y_np)\n",
    "df_Yt = est.transform(Y_np)\n",
    "\n",
    "df_rw = train_df.copy()\n",
    "df_rw[\"grade class\"] = df_Yt.reshape(-1)\n",
    "df_rw.head()"
   ]
  },
  {
   "cell_type": "code",
   "execution_count": 14,
   "id": "a781b2d5-863e-4e09-9e9c-b17173c36297",
   "metadata": {},
   "outputs": [],
   "source": [
    "# Establishing dependent and independent variables\n",
    "columns = list(df_rw.columns)\n",
    "y_rw = df_rw[columns[0]]\n",
    "del columns[0]\n",
    "X_rw = df_rw[columns]\n",
    "\n",
    "# Generating train-test split\n",
    "X_train_rw, X_test_rw, y_train_rw, y_test_rw = train_test_split(\n",
    "    X_rw, y_rw, test_size=0.3, random_state=seed\n",
    ")"
   ]
  },
  {
   "cell_type": "code",
   "execution_count": 15,
   "id": "d4dd41bb-d97d-40bd-b8fd-b379e956bc21",
   "metadata": {},
   "outputs": [],
   "source": [
    "# Lists of sensitive attribute values and outcome classes\n",
    "sensitive = list(X_train_rw[\"female\"].unique())\n",
    "label = list(X_train_rw[\"grade class\"].unique())"
   ]
  },
  {
   "cell_type": "code",
   "execution_count": 16,
   "id": "7d2346e3-0d13-481f-b4c5-f9224ee1bf8c",
   "metadata": {},
   "outputs": [
    {
     "name": "stderr",
     "output_type": "stream",
     "text": [
      "100%|██████████| 2/2 [00:00<00:00, 43.51it/s]\n"
     ]
    }
   ],
   "source": [
    "# Calculating weights for each combination of sensitive attribute value\n",
    "# and outcome class using Kamiran-Calders algorithm\n",
    "weights = {}\n",
    "for i in tqdm(sensitive):\n",
    "    for j in label:\n",
    "        if (\n",
    "            len(X_train_rw)\n",
    "            * len(\n",
    "                X_train_rw[\n",
    "                    (X_train_rw[\"female\"] == i) & (X_train_rw[\"grade class\"] == j)\n",
    "                ]\n",
    "            )\n",
    "        ) == 0:\n",
    "            weights[(i, j)] = 0\n",
    "        else:\n",
    "            weights[(i, j)] = (\n",
    "                len(X_train_rw[X_train_rw[\"female\"] == i])\n",
    "                * len(X_train_rw[X_train_rw[\"grade class\"] == j])\n",
    "            ) / (\n",
    "                len(X_train_rw)\n",
    "                * len(\n",
    "                    X_train_rw[\n",
    "                        (X_train_rw[\"female\"] == i) & (X_train_rw[\"grade class\"] == j)\n",
    "                    ]\n",
    "                )\n",
    "            )"
   ]
  },
  {
   "cell_type": "code",
   "execution_count": 17,
   "id": "4353ac37-944e-4f32-a82f-8a379f83f547",
   "metadata": {},
   "outputs": [],
   "source": [
    "# Creating new column for sample weights\n",
    "def get_weights(a, b):\n",
    "    return weights[(a, b)]\n",
    "\n",
    "\n",
    "X_train_rw[\"weights\"] = X_train_rw.apply(\n",
    "    lambda x: get_weights(x[\"female\"], x[\"grade class\"]), axis=1\n",
    ")"
   ]
  },
  {
   "cell_type": "markdown",
   "id": "2b7ba69f-45ce-4f7a-b0ee-415ebfdf7bb9",
   "metadata": {},
   "source": [
    "### Reweighing with Linear Regression"
   ]
  },
  {
   "cell_type": "code",
   "execution_count": 18,
   "id": "664feac1-9a0f-41e1-b9ae-d255691dc653",
   "metadata": {},
   "outputs": [],
   "source": [
    "linreg_rw = LinearRegression()\n",
    "linreg_rw.fit(X_train_rw[X], y_train_rw, X_train_rw[\"weights\"])\n",
    "y_linreg_pred_rw = linreg_rw.predict(X_test_rw[X])"
   ]
  },
  {
   "cell_type": "markdown",
   "id": "62da3eae-aa17-44df-acfc-943303db5176",
   "metadata": {},
   "source": [
    "### Reweighing with LESS"
   ]
  },
  {
   "cell_type": "code",
   "execution_count": 19,
   "id": "6bcb86b1-e59a-4dee-b28a-8ea54578bc69",
   "metadata": {},
   "outputs": [],
   "source": [
    "LESS_model_rw = lsr.LESSRegressor(frac=0.2, random_state=seed)\n",
    "LESS_model_rw.fit(X_train_rw[X], y_train_rw, X_train_rw[\"weights\"])\n",
    "y_pred_rw = LESS_model_rw.predict(X_test_rw[X])"
   ]
  },
  {
   "cell_type": "markdown",
   "id": "d139c5d6-856b-4a39-9f39-46b26103f010",
   "metadata": {},
   "source": [
    "### Hyperparameter Tuning for Reweighing (strategies and number of bins)"
   ]
  },
  {
   "cell_type": "code",
   "execution_count": 20,
   "id": "59f37e42-8d61-4374-97e2-fafdea349431",
   "metadata": {},
   "outputs": [
    {
     "name": "stdout",
     "output_type": "stream",
     "text": [
      "Test error of LESS with 2 bins, using uniform strategy: 1.4687\n",
      "Group RMSE ratio using LESS with 2 bins, using uniform strategy: 1.2246\n",
      "Group ME difference of LESS with 2 bins, using uniform strategy: 0.0747\n",
      "Test error of LESS with 3 bins, using uniform strategy: 1.4696\n",
      "Group RMSE ratio using LESS with 3 bins, using uniform strategy: 1.2268\n",
      "Group ME difference of LESS with 3 bins, using uniform strategy: 0.0793\n",
      "Test error of LESS with 4 bins, using uniform strategy: 1.4690\n",
      "Group RMSE ratio using LESS with 4 bins, using uniform strategy: 1.2256\n",
      "Group ME difference of LESS with 4 bins, using uniform strategy: 0.0807\n",
      "Test error of LESS with 5 bins, using uniform strategy: 1.4664\n",
      "Group RMSE ratio using LESS with 5 bins, using uniform strategy: 1.2225\n",
      "Group ME difference of LESS with 5 bins, using uniform strategy: 0.0835\n",
      "Test error of LESS with 6 bins, using uniform strategy: 1.4698\n",
      "Group RMSE ratio using LESS with 6 bins, using uniform strategy: 1.2269\n",
      "Group ME difference of LESS with 6 bins, using uniform strategy: 0.0654\n",
      "Test error of LESS with 7 bins, using uniform strategy: 1.4683\n",
      "Group RMSE ratio using LESS with 7 bins, using uniform strategy: 1.2250\n",
      "Group ME difference of LESS with 7 bins, using uniform strategy: 0.0784\n",
      "Test error of LESS with 8 bins, using uniform strategy: 1.4664\n",
      "Group RMSE ratio using LESS with 8 bins, using uniform strategy: 1.2260\n",
      "Group ME difference of LESS with 8 bins, using uniform strategy: 0.0671\n",
      "Test error of LESS with 9 bins, using uniform strategy: 1.4692\n",
      "Group RMSE ratio using LESS with 9 bins, using uniform strategy: 1.2260\n",
      "Group ME difference of LESS with 9 bins, using uniform strategy: 0.0664\n",
      "Test error of LESS with 10 bins, using uniform strategy: 1.4681\n",
      "Group RMSE ratio using LESS with 10 bins, using uniform strategy: 1.2250\n",
      "Group ME difference of LESS with 10 bins, using uniform strategy: 0.0664\n",
      "-----------------------------------------------------\n",
      "Test error of LESS with 2 bins, using quantile strategy: 1.4701\n",
      "Group RMSE ratio using LESS with 2 bins, using quantile strategy: 1.2233\n",
      "Group ME difference of LESS with 2 bins, using quantile strategy: 0.0849\n",
      "Test error of LESS with 3 bins, using quantile strategy: 1.4689\n",
      "Group RMSE ratio using LESS with 3 bins, using quantile strategy: 1.2249\n",
      "Group ME difference of LESS with 3 bins, using quantile strategy: 0.0688\n",
      "Test error of LESS with 4 bins, using quantile strategy: 1.4690\n",
      "Group RMSE ratio using LESS with 4 bins, using quantile strategy: 1.2274\n",
      "Group ME difference of LESS with 4 bins, using quantile strategy: 0.0652\n",
      "Test error of LESS with 5 bins, using quantile strategy: 1.4687\n",
      "Group RMSE ratio using LESS with 5 bins, using quantile strategy: 1.2262\n",
      "Group ME difference of LESS with 5 bins, using quantile strategy: 0.0737\n",
      "Test error of LESS with 6 bins, using quantile strategy: 1.4693\n",
      "Group RMSE ratio using LESS with 6 bins, using quantile strategy: 1.2273\n",
      "Group ME difference of LESS with 6 bins, using quantile strategy: 0.0694\n",
      "Test error of LESS with 7 bins, using quantile strategy: 1.4701\n",
      "Group RMSE ratio using LESS with 7 bins, using quantile strategy: 1.2247\n",
      "Group ME difference of LESS with 7 bins, using quantile strategy: 0.0898\n",
      "Test error of LESS with 8 bins, using quantile strategy: 1.4685\n",
      "Group RMSE ratio using LESS with 8 bins, using quantile strategy: 1.2251\n",
      "Group ME difference of LESS with 8 bins, using quantile strategy: 0.0824\n",
      "Test error of LESS with 9 bins, using quantile strategy: 1.4692\n",
      "Group RMSE ratio using LESS with 9 bins, using quantile strategy: 1.2251\n",
      "Group ME difference of LESS with 9 bins, using quantile strategy: 0.0861\n",
      "Test error of LESS with 10 bins, using quantile strategy: 1.4694\n",
      "Group RMSE ratio using LESS with 10 bins, using quantile strategy: 1.2258\n",
      "Group ME difference of LESS with 10 bins, using quantile strategy: 0.0855\n",
      "-----------------------------------------------------\n"
     ]
    }
   ],
   "source": [
    "Y_np = train_df[Y].to_numpy().reshape(-1, 1)\n",
    "y_rw = train_df[Y]\n",
    "X_rw = train_df[X]\n",
    "# List of bin numbers to try\n",
    "bins = [2, 3, 4, 5, 6, 7, 8, 9, 10]\n",
    "\n",
    "# List of two binning strategies to try\n",
    "strategies = [\"uniform\", \"quantile\"]\n",
    "weights = {}\n",
    "\n",
    "df_predictions_weights = pd.DataFrame(\n",
    "    {\"Actual\": y_test, \"Sensitive Attribute\": X_test[\"female\"],}\n",
    ")\n",
    "\n",
    "\n",
    "def get_weights(a, b):\n",
    "    return weights[(a, b)]\n",
    "\n",
    "\n",
    "for s in strategies:\n",
    "    for b in bins:\n",
    "        est = KBinsDiscretizer(n_bins=b, encode=\"ordinal\", strategy=s)\n",
    "        est.fit(Y_np)\n",
    "        df_Yt = est.transform(Y_np)\n",
    "        X_rw[\"grade class\"] = df_Yt.reshape(-1)\n",
    "\n",
    "        X_train_rw, X_test_rw, y_train_rw, y_test_rw = train_test_split(\n",
    "            X_rw, y_rw, test_size=0.3, random_state=seed\n",
    "        )\n",
    "\n",
    "        sensitive = list(X_train_rw[\"female\"].unique())\n",
    "        label = list(X_train_rw[\"grade class\"].unique())\n",
    "        sensitive, label\n",
    "\n",
    "        weights = {}\n",
    "        for i in sensitive:\n",
    "            for j in label:\n",
    "                if (\n",
    "                    len(X_train_rw)\n",
    "                    * len(\n",
    "                        X_train_rw[\n",
    "                            (X_train_rw[\"female\"] == i)\n",
    "                            & (X_train_rw[\"grade class\"] == j)\n",
    "                        ]\n",
    "                    )\n",
    "                ) == 0:\n",
    "                    weights[(i, j)] = 0\n",
    "                else:\n",
    "                    weights[(i, j)] = (\n",
    "                        len(X_train_rw[X_train_rw[\"female\"] == i])\n",
    "                        * len(X_train_rw[X_train_rw[\"grade class\"] == j])\n",
    "                    ) / (\n",
    "                        len(X_train_rw)\n",
    "                        * len(\n",
    "                            X_train_rw[\n",
    "                                (X_train_rw[\"female\"] == i)\n",
    "                                & (X_train_rw[\"grade class\"] == j)\n",
    "                            ]\n",
    "                        )\n",
    "                    )\n",
    "\n",
    "        X_train_rw[\"weights\"] = X_train_rw.apply(\n",
    "            lambda x: get_weights(x[\"female\"], x[\"grade class\"]), axis=1,\n",
    "        )\n",
    "\n",
    "        # Fitting model with sample weights associated with given combination\n",
    "        # of bin number and binning strategy\n",
    "        LESS_model_rw = lsr.LESSRegressor(frac=0.2, random_state=seed)\n",
    "        LESS_model_rw.fit(X_train_rw[X], y_train_rw, X_train_rw[\"weights\"])\n",
    "        y_pred_rw = LESS_model_rw.predict(X_test_rw[X])\n",
    "\n",
    "        # Evaluating accuracy and fairness\n",
    "        df_predictions_weights[\"Predicted\"] = y_pred_rw\n",
    "        df_predictions_weights = df_predictions_weights.reset_index(drop=True)\n",
    "        df_predictions_weights_zero = df_predictions_weights[\n",
    "            df_predictions_weights[\"Sensitive Attribute\"] == 0\n",
    "        ]\n",
    "        df_predictions_weights_one = df_predictions_weights[\n",
    "            df_predictions_weights[\"Sensitive Attribute\"] == 1\n",
    "        ]\n",
    "\n",
    "        print(\n",
    "            \"Test error of LESS with \"\n",
    "            + str(b)\n",
    "            + \" bins, using \"\n",
    "            + s\n",
    "            + \" strategy: {0:.4f}\".format(\n",
    "                math.sqrt(\n",
    "                    mean_squared_error(\n",
    "                        df_predictions_weights[\"Predicted\"],\n",
    "                        df_predictions_weights[\"Actual\"],\n",
    "                    )\n",
    "                )\n",
    "            )\n",
    "        )\n",
    "        print(\n",
    "            \"Group RMSE ratio using LESS with \"\n",
    "            + str(b)\n",
    "            + \" bins, using \"\n",
    "            + s\n",
    "            + \" strategy: {0:.4f}\".format(\n",
    "                math.sqrt(\n",
    "                    mean_squared_error(\n",
    "                        df_predictions_weights_one[\"Predicted\"],\n",
    "                        df_predictions_weights_one[\"Actual\"],\n",
    "                    )\n",
    "                )\n",
    "                / math.sqrt(\n",
    "                    mean_squared_error(\n",
    "                        df_predictions_weights_zero[\"Predicted\"],\n",
    "                        df_predictions_weights_zero[\"Actual\"],\n",
    "                    )\n",
    "                )\n",
    "            )\n",
    "        )\n",
    "        print(\n",
    "            \"Group ME difference of LESS with \"\n",
    "            + str(b)\n",
    "            + \" bins, using \"\n",
    "            + s\n",
    "            + \" strategy: {0:.4f}\".format(\n",
    "                (\n",
    "                    df_predictions_weights_one[\"Predicted\"]\n",
    "                    - df_predictions_weights_one[\"Actual\"]\n",
    "                ).mean()\n",
    "                - (\n",
    "                    df_predictions_weights_zero[\"Predicted\"]\n",
    "                    - df_predictions_weights_zero[\"Actual\"]\n",
    "                ).mean()\n",
    "            )\n",
    "        )\n",
    "    print(\"-----------------------------------------------------\")"
   ]
  },
  {
   "cell_type": "markdown",
   "id": "354004b7-fb18-4ac6-a5da-6ffd2b977082",
   "metadata": {},
   "source": [
    "## Fair Dummies Training (Romano) "
   ]
  },
  {
   "cell_type": "markdown",
   "id": "838e3c15-8cd7-4f55-b1d3-e0742e921163",
   "metadata": {},
   "source": [
    "### Parameter Selection (From Romano paper)"
   ]
  },
  {
   "cell_type": "raw",
   "id": "c8e344a8-8f79-4ea5-b7fb-96c30aabf178",
   "metadata": {},
   "source": [
    "test_methods +=  ['FairDummies']\n",
    "dataset_names += ['crimes']\n",
    "batch_size +=    [10000]\n",
    "lr +=            [0.01]\n",
    "steps +=         [80]\n",
    "mu_val +=        [0.7]\n",
    "second_scale +=  [1.0]\n",
    "epochs +=        [20]\n",
    "model_type +=    [\"linear_model\"]\n",
    "reg_type +=      [\"mreg\"]"
   ]
  },
  {
   "cell_type": "markdown",
   "id": "2a54ecd6-f6f3-446e-93ba-17bba54f1878",
   "metadata": {},
   "source": [
    "### Fair Dummies LESS"
   ]
  },
  {
   "cell_type": "code",
   "execution_count": 21,
   "id": "f3bbf584-a0a2-4db7-af02-d482e47e4fe1",
   "metadata": {},
   "outputs": [
    {
     "name": "stderr",
     "output_type": "stream",
     "text": [
      "100%|██████████| 20/20 [12:03<00:00, 36.16s/it]\n"
     ]
    },
    {
     "data": {
      "text/plain": [
       "LESSRegressor(equireg=True, frac=0.2,\n",
       "              local_estimator=<function <lambda> at 0x0000023415E41CA0>,\n",
       "              n_neighbors=146, n_subsets=5, random_state=123)"
      ]
     },
     "execution_count": 21,
     "metadata": {},
     "output_type": "execute_result"
    }
   ],
   "source": [
    "# Fair Dummies hyperparameters\n",
    "in_shape = X_train.shape[1] - 1\n",
    "batch_size = 10000\n",
    "lr_loss = 0.01\n",
    "lr_dis = 0.01\n",
    "loss_steps = 80\n",
    "dis_steps = 80\n",
    "mu_val = 0.7\n",
    "second_scale = 1\n",
    "epochs = 20\n",
    "cost_pred = torch.nn.MSELoss()\n",
    "model_type = \"linear_model\"\n",
    "\n",
    "# Fitting model\n",
    "loc_est = lambda: fair_dummies_learning.EquiRegLearner(\n",
    "    lr=lr_loss,\n",
    "    pretrain_pred_epochs=0,\n",
    "    pretrain_dis_epochs=0,\n",
    "    epochs=epochs,\n",
    "    loss_steps=loss_steps,\n",
    "    dis_steps=dis_steps,\n",
    "    cost_pred=cost_pred,\n",
    "    in_shape=in_shape,\n",
    "    batch_size=batch_size,\n",
    "    model_type=model_type,\n",
    "    lambda_vec=mu_val,\n",
    "    second_moment_scaling=second_scale,\n",
    "    out_shape=1,\n",
    ")\n",
    "\n",
    "LESS_model_equireg = LESSRegressor(\n",
    "    local_estimator=loc_est, frac=0.2, equireg=True, random_state=seed\n",
    ")\n",
    "LESS_model_equireg.fit(np.array(X_train), y_train)"
   ]
  },
  {
   "cell_type": "code",
   "execution_count": 22,
   "id": "e6586fb8-f2fd-4c22-9578-56eb84b139b9",
   "metadata": {},
   "outputs": [
    {
     "name": "stdout",
     "output_type": "stream",
     "text": [
      "Test error of LESS: 2.1524\n",
      "Test error of Fair Dummies: 2.1524\n",
      "Group MSE Difference Fair Dummies: 0.8478\n",
      "Group ME Difference Fair Dummies: 0.0090\n"
     ]
    }
   ],
   "source": [
    "dummies_pred = LESS_model_equireg.predict(np.array(X_test))\n",
    "print(\"Test error of LESS: {0:.4f}\".format(mean_squared_error(dummies_pred, y_test)))\n",
    "df_predictions_fair_dummies = pd.DataFrame(\n",
    "    {\"Actual\": y_test, \"Sensitive Attribute\": X_test[\"female\"],}\n",
    ")\n",
    "df_predictions_fair_dummies[\"Predicted\"] = dummies_pred\n",
    "df_predictions_fair_dummies = df_predictions_fair_dummies.reset_index(drop=True)\n",
    "df_predictions_fair_dummies_zero = df_predictions_fair_dummies[\n",
    "    df_predictions_fair_dummies[\"Sensitive Attribute\"] == 0\n",
    "]\n",
    "df_predictions_fair_dummies_one = df_predictions_fair_dummies[\n",
    "    df_predictions_fair_dummies[\"Sensitive Attribute\"] == 1\n",
    "]\n",
    "print(\n",
    "    \"Test error of Fair Dummies: {0:.4f}\".format(\n",
    "        mean_squared_error(\n",
    "            df_predictions_fair_dummies[\"Predicted\"],\n",
    "            df_predictions_fair_dummies[\"Actual\"],\n",
    "        )\n",
    "    )\n",
    ")\n",
    "print(\n",
    "    \"Group MSE Difference Fair Dummies: {0:.4f}\".format(\n",
    "        mean_squared_error(\n",
    "            df_predictions_fair_dummies_one[\"Predicted\"],\n",
    "            df_predictions_fair_dummies_one[\"Actual\"],\n",
    "        )\n",
    "        - mean_squared_error(\n",
    "            df_predictions_fair_dummies_zero[\"Predicted\"],\n",
    "            df_predictions_fair_dummies_zero[\"Actual\"],\n",
    "        )\n",
    "    )\n",
    ")\n",
    "print(\n",
    "    \"Group ME Difference Fair Dummies: {0:.4f}\".format(\n",
    "        (\n",
    "            df_predictions_fair_dummies_one[\"Predicted\"]\n",
    "            - df_predictions_fair_dummies_one[\"Actual\"]\n",
    "        ).mean()\n",
    "        - (\n",
    "            df_predictions_fair_dummies_zero[\"Predicted\"]\n",
    "            - df_predictions_fair_dummies_zero[\"Actual\"]\n",
    "        ).mean()\n",
    "    )\n",
    ")"
   ]
  },
  {
   "cell_type": "markdown",
   "id": "3aa28916-987e-4d92-b727-f992c04d6c83",
   "metadata": {},
   "source": [
    "### Linear Regression Fair Dummies"
   ]
  },
  {
   "cell_type": "code",
   "execution_count": 23,
   "id": "b253c0e0-607b-4755-bc8f-0dd3e0b59f81",
   "metadata": {},
   "outputs": [],
   "source": [
    "FD_model = fair_dummies_learning.EquiRegLearner(\n",
    "    lr=lr_loss,\n",
    "    pretrain_pred_epochs=0,\n",
    "    pretrain_dis_epochs=0,\n",
    "    epochs=epochs,\n",
    "    loss_steps=loss_steps,\n",
    "    dis_steps=dis_steps,\n",
    "    cost_pred=cost_pred,\n",
    "    in_shape=in_shape,\n",
    "    batch_size=batch_size,\n",
    "    model_type=model_type,\n",
    "    lambda_vec=mu_val,\n",
    "    second_moment_scaling=second_scale,\n",
    "    out_shape=1,\n",
    ")\n",
    "\n",
    "FD_model.fit(np.array(X_train), y_train)\n",
    "\n",
    "Lin_reg_FD_pred = FD_model.predict(np.array(X_test))"
   ]
  },
  {
   "cell_type": "markdown",
   "id": "b058d030-0ca2-42bc-987a-00a4637f8367",
   "metadata": {},
   "source": [
    "### Uncorrelated Variables with Fair Dummies"
   ]
  },
  {
   "cell_type": "code",
   "execution_count": 24,
   "id": "dcca58a2-ae42-4414-b709-42617b4b42f1",
   "metadata": {},
   "outputs": [
    {
     "name": "stderr",
     "output_type": "stream",
     "text": [
      "100%|██████████| 20/20 [11:00<00:00, 33.02s/it]\n"
     ]
    }
   ],
   "source": [
    "LESS_model_equireg_uncorr = LESSRegressor(\n",
    "    local_estimator=loc_est, frac=0.2, equireg=True, random_state=seed\n",
    ")\n",
    "LESS_model_equireg_uncorr.fit(X_train_uncorr_wr, y_train)\n",
    "dummies_uncorr_pred = LESS_model_equireg_uncorr.predict(np.array(X_test))"
   ]
  },
  {
   "cell_type": "markdown",
   "id": "b0318c1e-8e66-4c8d-ad11-9df403bdbb02",
   "metadata": {},
   "source": [
    " ### Uncorrelated with Fair Dummies Linear Regression   "
   ]
  },
  {
   "cell_type": "code",
   "execution_count": 25,
   "id": "1f593079-3f5b-468b-9d40-6f34555be4ff",
   "metadata": {},
   "outputs": [],
   "source": [
    "FD_model_uncorr = fair_dummies_learning.EquiRegLearner(\n",
    "    lr=lr_loss,\n",
    "    pretrain_pred_epochs=0,\n",
    "    pretrain_dis_epochs=0,\n",
    "    epochs=epochs,\n",
    "    loss_steps=loss_steps,\n",
    "    dis_steps=dis_steps,\n",
    "    cost_pred=cost_pred,\n",
    "    in_shape=in_shape,\n",
    "    batch_size=batch_size,\n",
    "    model_type=model_type,\n",
    "    lambda_vec=mu_val,\n",
    "    second_moment_scaling=second_scale,\n",
    "    out_shape=1,\n",
    ")\n",
    "\n",
    "FD_model_uncorr.fit(np.array(X_train_uncorr_wr), y_train)\n",
    "\n",
    "Lin_reg_FD_uncorr_pred = FD_model_uncorr.predict(np.array(X_test))"
   ]
  },
  {
   "cell_type": "markdown",
   "id": "6206228b-fdad-431a-a04b-66591c88f709",
   "metadata": {},
   "source": [
    "## Bounded Group Loss(Agarwal)"
   ]
  },
  {
   "cell_type": "markdown",
   "id": "6e434301-d2a3-4d1b-bfe5-85626c3e552b",
   "metadata": {},
   "source": [
    "### Bounded group loss model"
   ]
  },
  {
   "cell_type": "code",
   "execution_count": 26,
   "id": "0fdab23c-730b-431c-a08d-6f684083ac3a",
   "metadata": {},
   "outputs": [],
   "source": [
    "# Defining bounded group loss constraint\n",
    "bgl1 = BoundedGroupLoss(SquareLoss(0, 1), upper_bound=0.05)\n",
    "\n",
    "# Fitting model\n",
    "reduction = GridSearch(LinearRegression(), constraints=bgl1, grid_size=100)\n",
    "reduction.fit(\n",
    "    X_train[X].drop(\"female\", axis=1), y_train, sensitive_features=X_train[\"female\"],\n",
    ")\n",
    "y_pred_BGL_only = reduction.predict(X_test[X].drop(\"female\", axis=1))"
   ]
  },
  {
   "cell_type": "markdown",
   "id": "24f518c5-5306-4b33-9652-b4fe241236dd",
   "metadata": {},
   "source": [
    "### LESS with BGL"
   ]
  },
  {
   "cell_type": "code",
   "execution_count": 27,
   "id": "4700ee1f-7e18-404c-ab7d-ad53134d06fc",
   "metadata": {},
   "outputs": [
    {
     "name": "stderr",
     "output_type": "stream",
     "text": [
      "100%|██████████| 20/20 [03:21<00:00, 10.09s/it]\n"
     ]
    }
   ],
   "source": [
    "df_predictions_LESS_BGL_tuned = pd.DataFrame(\n",
    "    {\"Actual\": y_test, \"Sensitive Attribute\": X_test[\"female\"],}\n",
    ")\n",
    "\n",
    "LESS_model_BGL_tuned = ls.LESSRegressor(frac=0.2, random_state=seed)\n",
    "LESS_model_BGL_tuned.fit(X_train, y_train, \"female\", gridsize=100)\n",
    "y_pred_BGL_LESS_tuned = LESS_model_BGL_tuned.predict(X_test)"
   ]
  },
  {
   "cell_type": "markdown",
   "id": "970dad63-fc7d-452a-bf4b-2228dd47f65d",
   "metadata": {},
   "source": [
    "### Hyperparameter Tuning: Grid size and Upper bound"
   ]
  },
  {
   "cell_type": "code",
   "execution_count": 28,
   "id": "a2c6c916-a3bb-461b-97f5-098ad39722ee",
   "metadata": {},
   "outputs": [
    {
     "name": "stderr",
     "output_type": "stream",
     "text": [
      "100%|██████████| 20/20 [00:50<00:00,  2.55s/it]\n"
     ]
    },
    {
     "name": "stdout",
     "output_type": "stream",
     "text": [
      "Test error of LESS with gridsize 25: 1.4729\n",
      "Group RMSE ratio LESS with gridsize 25: 1.2184\n",
      "Group ME Difference LESS with gridsize 25: 0.0997\n"
     ]
    },
    {
     "name": "stderr",
     "output_type": "stream",
     "text": [
      "100%|██████████| 20/20 [01:39<00:00,  4.99s/it]\n"
     ]
    },
    {
     "name": "stdout",
     "output_type": "stream",
     "text": [
      "Test error of LESS with gridsize 50: 1.4767\n",
      "Group RMSE ratio LESS with gridsize 50: 1.2079\n",
      "Group ME Difference LESS with gridsize 50: 0.1597\n"
     ]
    },
    {
     "name": "stderr",
     "output_type": "stream",
     "text": [
      "100%|██████████| 20/20 [03:38<00:00, 10.93s/it]\n"
     ]
    },
    {
     "name": "stdout",
     "output_type": "stream",
     "text": [
      "Test error of LESS with gridsize 100: 1.4728\n",
      "Group RMSE ratio LESS with gridsize 100: 1.2184\n",
      "Group ME Difference LESS with gridsize 100: 0.0992\n"
     ]
    },
    {
     "name": "stderr",
     "output_type": "stream",
     "text": [
      "100%|██████████| 20/20 [07:04<00:00, 21.25s/it]\n"
     ]
    },
    {
     "name": "stdout",
     "output_type": "stream",
     "text": [
      "Test error of LESS with gridsize 200: 1.4725\n",
      "Group RMSE ratio LESS with gridsize 200: 1.2186\n",
      "Group ME Difference LESS with gridsize 200: 0.0988\n"
     ]
    },
    {
     "name": "stderr",
     "output_type": "stream",
     "text": [
      "100%|██████████| 20/20 [17:07<00:00, 51.35s/it]"
     ]
    },
    {
     "name": "stdout",
     "output_type": "stream",
     "text": [
      "Test error of LESS with gridsize 500: 1.4769\n",
      "Group RMSE ratio LESS with gridsize 500: 1.2075\n",
      "Group ME Difference LESS with gridsize 500: 0.1603\n"
     ]
    },
    {
     "name": "stderr",
     "output_type": "stream",
     "text": [
      "\n"
     ]
    }
   ],
   "source": [
    "# List of grid sizes to try\n",
    "gridsize = [25, 50, 100, 200, 500]\n",
    "df_predictions_gridsizes = pd.DataFrame(\n",
    "    {\"Actual\": y_test, \"Sensitive Attribute\": X_test[\"female\"],}\n",
    ")\n",
    "\n",
    "for g in gridsize:\n",
    "    LESS_model_BGL = ls.LESSRegressor(frac=0.2, random_state=seed)\n",
    "    LESS_model_BGL.fit(X_train, y_train, \"female\", gridsize=g)\n",
    "    y_pred_BGL_LESS = LESS_model_BGL.predict(X_test)\n",
    "\n",
    "    df_predictions_gridsizes[\"Predicted\"] = y_pred_BGL_LESS\n",
    "    df_predictions_gridsizes = df_predictions_gridsizes.reset_index(drop=True)\n",
    "    df_predictions_gridsizes_zero = df_predictions_gridsizes[\n",
    "        df_predictions_gridsizes[\"Sensitive Attribute\"] == 0\n",
    "    ]\n",
    "    df_predictions_gridsizes_one = df_predictions_gridsizes[\n",
    "        df_predictions_gridsizes[\"Sensitive Attribute\"] == 1\n",
    "    ]\n",
    "\n",
    "    print(\n",
    "        \"Test error of LESS with gridsize \"\n",
    "        + str(g)\n",
    "        + \": {0:.4f}\".format(\n",
    "            math.sqrt(\n",
    "                mean_squared_error(\n",
    "                    df_predictions_gridsizes[\"Predicted\"],\n",
    "                    df_predictions_gridsizes[\"Actual\"],\n",
    "                )\n",
    "            )\n",
    "        )\n",
    "    )\n",
    "    print(\n",
    "        \"Group RMSE ratio LESS with gridsize \"\n",
    "        + str(g)\n",
    "        + \": {0:.4f}\".format(\n",
    "            math.sqrt(\n",
    "                mean_squared_error(\n",
    "                    df_predictions_gridsizes_one[\"Predicted\"],\n",
    "                    df_predictions_gridsizes_one[\"Actual\"],\n",
    "                )\n",
    "            )\n",
    "            / math.sqrt(\n",
    "                mean_squared_error(\n",
    "                    df_predictions_gridsizes_zero[\"Predicted\"],\n",
    "                    df_predictions_gridsizes_zero[\"Actual\"],\n",
    "                )\n",
    "            )\n",
    "        )\n",
    "    )\n",
    "    print(\n",
    "        \"Group ME Difference LESS with gridsize \"\n",
    "        + str(g)\n",
    "        + \": {0:.4f}\".format(\n",
    "            (\n",
    "                df_predictions_gridsizes_one[\"Predicted\"]\n",
    "                - df_predictions_gridsizes_one[\"Actual\"]\n",
    "            ).mean()\n",
    "            - (\n",
    "                df_predictions_gridsizes_zero[\"Predicted\"]\n",
    "                - df_predictions_gridsizes_zero[\"Actual\"]\n",
    "            ).mean()\n",
    "        )\n",
    "    )"
   ]
  },
  {
   "cell_type": "markdown",
   "id": "1579c745-ae0c-4abe-b465-858e717f51a5",
   "metadata": {},
   "source": [
    "### Bounded Group Loss with Uncorrelated variables"
   ]
  },
  {
   "cell_type": "code",
   "execution_count": 29,
   "id": "81a988f2-6e44-497e-ac4a-8939404945b9",
   "metadata": {},
   "outputs": [],
   "source": [
    "# Defining bounded group loss constraint\n",
    "bgl_uncorr = BoundedGroupLoss(SquareLoss(0, 1), upper_bound=0.05)\n",
    "\n",
    "# Fitting model\n",
    "reduction_uncorr = GridSearch(LinearRegression(), constraints=bgl_uncorr, grid_size=100)\n",
    "reduction_uncorr.fit(\n",
    "    X_train_uncorr, y_train, sensitive_features=X_train[\"female\"],\n",
    ")\n",
    "y_pred_BGL_uncorr = reduction_uncorr.predict(X_test[X].drop(\"female\", axis=1))"
   ]
  },
  {
   "cell_type": "markdown",
   "id": "53e99a8d-1eac-4af1-b6cf-c979937aef53",
   "metadata": {},
   "source": [
    "### LESS with Bounded Group Loss and Uncorrelated Variables"
   ]
  },
  {
   "cell_type": "code",
   "execution_count": null,
   "id": "68a61e98-c827-4771-9028-e202443dec33",
   "metadata": {},
   "outputs": [],
   "source": [
    "LESS_model_BGL_uncorr = ls.LESSRegressor(frac=0.2, random_state=seed)\n",
    "LESS_model_BGL_uncorr.fit(\n",
    "    pd.DataFrame(X_train_uncorr_wr, columns=X), y_train, \"female\", gridsize=100\n",
    ")\n",
    "y_pred_BGL_LESS_uncorr = LESS_model_BGL_uncorr.predict(X_test)"
   ]
  },
  {
   "cell_type": "markdown",
   "id": "f0ac232e-5eb8-4bf9-a626-ad971721d2d5",
   "metadata": {},
   "source": [
    "# Results and Plotting"
   ]
  },
  {
   "cell_type": "code",
   "execution_count": 31,
   "id": "b7b5bf59-09dc-4b4a-b5ba-f5ae5ff3395f",
   "metadata": {},
   "outputs": [
    {
     "data": {
      "text/html": [
       "<div>\n",
       "<style scoped>\n",
       "    .dataframe tbody tr th:only-of-type {\n",
       "        vertical-align: middle;\n",
       "    }\n",
       "\n",
       "    .dataframe tbody tr th {\n",
       "        vertical-align: top;\n",
       "    }\n",
       "\n",
       "    .dataframe thead th {\n",
       "        text-align: right;\n",
       "    }\n",
       "</style>\n",
       "<table border=\"1\" class=\"dataframe\">\n",
       "  <thead>\n",
       "    <tr style=\"text-align: right;\">\n",
       "      <th></th>\n",
       "      <th>Baseline_Less</th>\n",
       "      <th>Baseline_Lin_reg</th>\n",
       "      <th>Uncorrelated_LESS</th>\n",
       "      <th>Uncorrelated_Lin_Reg</th>\n",
       "      <th>Dummies_LESS</th>\n",
       "      <th>Dummies_Lin_Reg</th>\n",
       "      <th>BGL</th>\n",
       "      <th>BGL_LESS</th>\n",
       "      <th>BGL_uncorr</th>\n",
       "      <th>BGL_LESS_uncorr</th>\n",
       "      <th>Reweigh_LESS</th>\n",
       "      <th>Reweigh_Lin_Reg</th>\n",
       "      <th>FD_Uncorr_LESS</th>\n",
       "      <th>FD_Uncorr_Lin_Reg</th>\n",
       "      <th>Actual</th>\n",
       "      <th>Sensitive Attribute</th>\n",
       "    </tr>\n",
       "  </thead>\n",
       "  <tbody>\n",
       "    <tr>\n",
       "      <th>0</th>\n",
       "      <td>11.271497</td>\n",
       "      <td>11.358529</td>\n",
       "      <td>11.360151</td>\n",
       "      <td>11.489970</td>\n",
       "      <td>11.260111</td>\n",
       "      <td>10.884123</td>\n",
       "      <td>11.429788</td>\n",
       "      <td>11.380411</td>\n",
       "      <td>11.429788</td>\n",
       "      <td>11.506437</td>\n",
       "      <td>11.226452</td>\n",
       "      <td>11.354096</td>\n",
       "      <td>11.412391</td>\n",
       "      <td>10.758425</td>\n",
       "      <td>12</td>\n",
       "      <td>1</td>\n",
       "    </tr>\n",
       "    <tr>\n",
       "      <th>1</th>\n",
       "      <td>7.838327</td>\n",
       "      <td>7.864947</td>\n",
       "      <td>7.733972</td>\n",
       "      <td>7.692743</td>\n",
       "      <td>7.859460</td>\n",
       "      <td>7.908522</td>\n",
       "      <td>8.004008</td>\n",
       "      <td>7.751099</td>\n",
       "      <td>8.004008</td>\n",
       "      <td>7.607054</td>\n",
       "      <td>7.880846</td>\n",
       "      <td>7.877206</td>\n",
       "      <td>7.859473</td>\n",
       "      <td>8.100235</td>\n",
       "      <td>11</td>\n",
       "      <td>0</td>\n",
       "    </tr>\n",
       "    <tr>\n",
       "      <th>2</th>\n",
       "      <td>14.413565</td>\n",
       "      <td>14.478702</td>\n",
       "      <td>14.553810</td>\n",
       "      <td>14.610143</td>\n",
       "      <td>14.372295</td>\n",
       "      <td>14.444835</td>\n",
       "      <td>14.504361</td>\n",
       "      <td>14.422396</td>\n",
       "      <td>14.504361</td>\n",
       "      <td>14.526050</td>\n",
       "      <td>14.397098</td>\n",
       "      <td>14.464705</td>\n",
       "      <td>14.361677</td>\n",
       "      <td>14.284759</td>\n",
       "      <td>15</td>\n",
       "      <td>1</td>\n",
       "    </tr>\n",
       "    <tr>\n",
       "      <th>3</th>\n",
       "      <td>10.112742</td>\n",
       "      <td>9.844741</td>\n",
       "      <td>10.215498</td>\n",
       "      <td>9.976182</td>\n",
       "      <td>10.093438</td>\n",
       "      <td>9.850838</td>\n",
       "      <td>9.969101</td>\n",
       "      <td>10.146910</td>\n",
       "      <td>9.969101</td>\n",
       "      <td>9.978219</td>\n",
       "      <td>10.080496</td>\n",
       "      <td>9.840984</td>\n",
       "      <td>10.042820</td>\n",
       "      <td>10.144731</td>\n",
       "      <td>11</td>\n",
       "      <td>1</td>\n",
       "    </tr>\n",
       "    <tr>\n",
       "      <th>4</th>\n",
       "      <td>13.351525</td>\n",
       "      <td>13.346527</td>\n",
       "      <td>13.488716</td>\n",
       "      <td>13.477967</td>\n",
       "      <td>13.327041</td>\n",
       "      <td>13.354614</td>\n",
       "      <td>13.330122</td>\n",
       "      <td>13.406753</td>\n",
       "      <td>13.330122</td>\n",
       "      <td>13.443130</td>\n",
       "      <td>13.359576</td>\n",
       "      <td>13.329488</td>\n",
       "      <td>13.297095</td>\n",
       "      <td>13.218925</td>\n",
       "      <td>13</td>\n",
       "      <td>1</td>\n",
       "    </tr>\n",
       "  </tbody>\n",
       "</table>\n",
       "</div>"
      ],
      "text/plain": [
       "   Baseline_Less  Baseline_Lin_reg  Uncorrelated_LESS  Uncorrelated_Lin_Reg  \\\n",
       "0      11.271497         11.358529          11.360151             11.489970   \n",
       "1       7.838327          7.864947           7.733972              7.692743   \n",
       "2      14.413565         14.478702          14.553810             14.610143   \n",
       "3      10.112742          9.844741          10.215498              9.976182   \n",
       "4      13.351525         13.346527          13.488716             13.477967   \n",
       "\n",
       "   Dummies_LESS  Dummies_Lin_Reg        BGL   BGL_LESS  BGL_uncorr  \\\n",
       "0     11.260111        10.884123  11.429788  11.380411   11.429788   \n",
       "1      7.859460         7.908522   8.004008   7.751099    8.004008   \n",
       "2     14.372295        14.444835  14.504361  14.422396   14.504361   \n",
       "3     10.093438         9.850838   9.969101  10.146910    9.969101   \n",
       "4     13.327041        13.354614  13.330122  13.406753   13.330122   \n",
       "\n",
       "   BGL_LESS_uncorr  Reweigh_LESS  Reweigh_Lin_Reg  FD_Uncorr_LESS  \\\n",
       "0        11.506437     11.226452        11.354096       11.412391   \n",
       "1         7.607054      7.880846         7.877206        7.859473   \n",
       "2        14.526050     14.397098        14.464705       14.361677   \n",
       "3         9.978219     10.080496         9.840984       10.042820   \n",
       "4        13.443130     13.359576        13.329488       13.297095   \n",
       "\n",
       "   FD_Uncorr_Lin_Reg  Actual  Sensitive Attribute  \n",
       "0          10.758425      12                    1  \n",
       "1           8.100235      11                    0  \n",
       "2          14.284759      15                    1  \n",
       "3          10.144731      11                    1  \n",
       "4          13.218925      13                    1  "
      ]
     },
     "execution_count": 31,
     "metadata": {},
     "output_type": "execute_result"
    }
   ],
   "source": [
    "# Creating dataframe of prediction series for each model\n",
    "df_predictions = pd.DataFrame(\n",
    "    {\n",
    "        \"Baseline_Less\": y_pred_baseline,\n",
    "        \"Baseline_Lin_reg\": y_linreg_baseline_pred,\n",
    "        \"Uncorrelated_LESS\": y_pred_uncorr_wr,\n",
    "        \"Uncorrelated_Lin_Reg\": y_linreg_uncorr_pred,\n",
    "        \"Dummies_LESS\": dummies_pred,\n",
    "        \"Dummies_Lin_Reg\": Lin_reg_FD_pred,\n",
    "        \"BGL\": y_pred_BGL_only,\n",
    "        \"BGL_LESS\": y_pred_BGL_LESS_tuned,\n",
    "        \"BGL_uncorr\": y_pred_BGL_uncorr,\n",
    "        \"BGL_LESS_uncorr\": y_pred_BGL_LESS_uncorr,\n",
    "        \"Reweigh_LESS\": y_pred_rw,\n",
    "        \"Reweigh_Lin_Reg\": y_linreg_pred_rw,\n",
    "        \"FD_Uncorr_LESS\": dummies_uncorr_pred,\n",
    "        \"FD_Uncorr_Lin_Reg\": Lin_reg_FD_uncorr_pred,\n",
    "        \"Actual\": y_test,\n",
    "        \"Sensitive Attribute\": X_test[\"female\"],\n",
    "    }\n",
    ")\n",
    "df_predictions = df_predictions.reset_index(drop=True)\n",
    "df_predictions.head()"
   ]
  },
  {
   "cell_type": "code",
   "execution_count": 32,
   "id": "08454791-79b9-4dee-8c63-a4c9800e842d",
   "metadata": {},
   "outputs": [],
   "source": [
    "# Splitting dataframe based on value of sensitive attribute\n",
    "df_predictions_zero = df_predictions[df_predictions[\"Sensitive Attribute\"] == 0]\n",
    "df_predictions_one = df_predictions[df_predictions[\"Sensitive Attribute\"] == 1]"
   ]
  },
  {
   "cell_type": "code",
   "execution_count": 33,
   "id": "9a7e554d-b052-4f99-9f27-a0ac0569c9a0",
   "metadata": {},
   "outputs": [
    {
     "data": {
      "text/html": [
       "<div>\n",
       "<style scoped>\n",
       "    .dataframe tbody tr th:only-of-type {\n",
       "        vertical-align: middle;\n",
       "    }\n",
       "\n",
       "    .dataframe tbody tr th {\n",
       "        vertical-align: top;\n",
       "    }\n",
       "\n",
       "    .dataframe thead th {\n",
       "        text-align: right;\n",
       "    }\n",
       "</style>\n",
       "<table border=\"1\" class=\"dataframe\">\n",
       "  <thead>\n",
       "    <tr style=\"text-align: right;\">\n",
       "      <th></th>\n",
       "      <th>Models</th>\n",
       "      <th>Mean Squared Error</th>\n",
       "      <th>Mean Errors difference between groups</th>\n",
       "      <th>Root-mean-squared error ratio between groups</th>\n",
       "      <th>Root Mean Squared Error</th>\n",
       "    </tr>\n",
       "  </thead>\n",
       "  <tbody>\n",
       "    <tr>\n",
       "      <th>0</th>\n",
       "      <td>Baseline_Less</td>\n",
       "      <td>2.159247</td>\n",
       "      <td>0.103367</td>\n",
       "      <td>1.223036</td>\n",
       "      <td>1.469437</td>\n",
       "    </tr>\n",
       "    <tr>\n",
       "      <th>1</th>\n",
       "      <td>Baseline_Lin_reg</td>\n",
       "      <td>2.215556</td>\n",
       "      <td>0.079746</td>\n",
       "      <td>1.226799</td>\n",
       "      <td>1.488474</td>\n",
       "    </tr>\n",
       "    <tr>\n",
       "      <th>2</th>\n",
       "      <td>Uncorrelated_LESS</td>\n",
       "      <td>2.194238</td>\n",
       "      <td>0.370756</td>\n",
       "      <td>1.197254</td>\n",
       "      <td>1.481296</td>\n",
       "    </tr>\n",
       "    <tr>\n",
       "      <th>3</th>\n",
       "      <td>Uncorrelated_Lin_Reg</td>\n",
       "      <td>2.250323</td>\n",
       "      <td>0.383390</td>\n",
       "      <td>1.201863</td>\n",
       "      <td>1.500108</td>\n",
       "    </tr>\n",
       "    <tr>\n",
       "      <th>4</th>\n",
       "      <td>Dummies_LESS</td>\n",
       "      <td>2.152388</td>\n",
       "      <td>0.008976</td>\n",
       "      <td>1.227311</td>\n",
       "      <td>1.467102</td>\n",
       "    </tr>\n",
       "    <tr>\n",
       "      <th>5</th>\n",
       "      <td>Dummies_Lin_Reg</td>\n",
       "      <td>2.249577</td>\n",
       "      <td>-0.036775</td>\n",
       "      <td>1.262905</td>\n",
       "      <td>1.499859</td>\n",
       "    </tr>\n",
       "    <tr>\n",
       "      <th>6</th>\n",
       "      <td>BGL</td>\n",
       "      <td>2.251919</td>\n",
       "      <td>-0.123979</td>\n",
       "      <td>1.219501</td>\n",
       "      <td>1.500640</td>\n",
       "    </tr>\n",
       "    <tr>\n",
       "      <th>7</th>\n",
       "      <td>BGL_LESS</td>\n",
       "      <td>2.169189</td>\n",
       "      <td>0.099217</td>\n",
       "      <td>1.218403</td>\n",
       "      <td>1.472817</td>\n",
       "    </tr>\n",
       "    <tr>\n",
       "      <th>8</th>\n",
       "      <td>BGL_uncorr</td>\n",
       "      <td>2.251919</td>\n",
       "      <td>-0.123979</td>\n",
       "      <td>1.219501</td>\n",
       "      <td>1.500640</td>\n",
       "    </tr>\n",
       "    <tr>\n",
       "      <th>9</th>\n",
       "      <td>BGL_LESS_uncorr</td>\n",
       "      <td>2.222713</td>\n",
       "      <td>0.037070</td>\n",
       "      <td>1.222825</td>\n",
       "      <td>1.490876</td>\n",
       "    </tr>\n",
       "    <tr>\n",
       "      <th>10</th>\n",
       "      <td>Reweigh_LESS</td>\n",
       "      <td>2.159265</td>\n",
       "      <td>0.085522</td>\n",
       "      <td>1.225841</td>\n",
       "      <td>1.469444</td>\n",
       "    </tr>\n",
       "    <tr>\n",
       "      <th>11</th>\n",
       "      <td>Reweigh_Lin_Reg</td>\n",
       "      <td>2.215942</td>\n",
       "      <td>0.051130</td>\n",
       "      <td>1.226520</td>\n",
       "      <td>1.488604</td>\n",
       "    </tr>\n",
       "    <tr>\n",
       "      <th>12</th>\n",
       "      <td>FD_Uncorr_LESS</td>\n",
       "      <td>2.167338</td>\n",
       "      <td>-0.023767</td>\n",
       "      <td>1.220770</td>\n",
       "      <td>1.472188</td>\n",
       "    </tr>\n",
       "    <tr>\n",
       "      <th>13</th>\n",
       "      <td>FD_Uncorr_Lin_Reg</td>\n",
       "      <td>2.331103</td>\n",
       "      <td>-0.096864</td>\n",
       "      <td>1.265695</td>\n",
       "      <td>1.526795</td>\n",
       "    </tr>\n",
       "  </tbody>\n",
       "</table>\n",
       "</div>"
      ],
      "text/plain": [
       "                  Models  Mean Squared Error  \\\n",
       "0          Baseline_Less            2.159247   \n",
       "1       Baseline_Lin_reg            2.215556   \n",
       "2      Uncorrelated_LESS            2.194238   \n",
       "3   Uncorrelated_Lin_Reg            2.250323   \n",
       "4           Dummies_LESS            2.152388   \n",
       "5        Dummies_Lin_Reg            2.249577   \n",
       "6                    BGL            2.251919   \n",
       "7               BGL_LESS            2.169189   \n",
       "8             BGL_uncorr            2.251919   \n",
       "9        BGL_LESS_uncorr            2.222713   \n",
       "10          Reweigh_LESS            2.159265   \n",
       "11       Reweigh_Lin_Reg            2.215942   \n",
       "12        FD_Uncorr_LESS            2.167338   \n",
       "13     FD_Uncorr_Lin_Reg            2.331103   \n",
       "\n",
       "    Mean Errors difference between groups  \\\n",
       "0                                0.103367   \n",
       "1                                0.079746   \n",
       "2                                0.370756   \n",
       "3                                0.383390   \n",
       "4                                0.008976   \n",
       "5                               -0.036775   \n",
       "6                               -0.123979   \n",
       "7                                0.099217   \n",
       "8                               -0.123979   \n",
       "9                                0.037070   \n",
       "10                               0.085522   \n",
       "11                               0.051130   \n",
       "12                              -0.023767   \n",
       "13                              -0.096864   \n",
       "\n",
       "    Root-mean-squared error ratio between groups  Root Mean Squared Error  \n",
       "0                                       1.223036                 1.469437  \n",
       "1                                       1.226799                 1.488474  \n",
       "2                                       1.197254                 1.481296  \n",
       "3                                       1.201863                 1.500108  \n",
       "4                                       1.227311                 1.467102  \n",
       "5                                       1.262905                 1.499859  \n",
       "6                                       1.219501                 1.500640  \n",
       "7                                       1.218403                 1.472817  \n",
       "8                                       1.219501                 1.500640  \n",
       "9                                       1.222825                 1.490876  \n",
       "10                                      1.225841                 1.469444  \n",
       "11                                      1.226520                 1.488604  \n",
       "12                                      1.220770                 1.472188  \n",
       "13                                      1.265695                 1.526795  "
      ]
     },
     "execution_count": 33,
     "metadata": {},
     "output_type": "execute_result"
    }
   ],
   "source": [
    "# Creating dataframe of accuracy and fairness score results for each model\n",
    "Results = pd.DataFrame()\n",
    "cols = df_predictions.columns\n",
    "cols = cols[:-2]\n",
    "MSE = []\n",
    "MED = []\n",
    "RMSERBG = []\n",
    "\n",
    "for col in cols:\n",
    "    MSE.append(mean_squared_error(df_predictions[col], df_predictions[\"Actual\"]))\n",
    "    MED.append(\n",
    "        (df_predictions_one[col] - df_predictions_one[\"Actual\"]).mean()\n",
    "        - (df_predictions_zero[col] - df_predictions_zero[\"Actual\"]).mean()\n",
    "    )\n",
    "    RMSERBG.append(\n",
    "        math.sqrt(\n",
    "            mean_squared_error(df_predictions_one[col], df_predictions_one[\"Actual\"])\n",
    "        )\n",
    "        / math.sqrt(\n",
    "            mean_squared_error(df_predictions_zero[col], df_predictions_zero[\"Actual\"])\n",
    "        )\n",
    "    )\n",
    "\n",
    "Results = pd.DataFrame(\n",
    "    {\n",
    "        \"Models\": cols,\n",
    "        \"Mean Squared Error\": MSE,\n",
    "        \"Mean Errors difference between groups\": MED,\n",
    "        \"Root-mean-squared error ratio between groups\": RMSERBG,\n",
    "    }\n",
    ")\n",
    "\n",
    "Results[\"Root Mean Squared Error\"] = Results[\"Mean Squared Error\"].apply(\n",
    "    lambda x: math.sqrt(x)\n",
    ")\n",
    "Results"
   ]
  },
  {
   "cell_type": "markdown",
   "id": "3746b143-571e-46dd-8cb0-78c282d39acb",
   "metadata": {},
   "source": [
    "## Boxplots of group-specific prediction errors for each model"
   ]
  },
  {
   "cell_type": "code",
   "execution_count": 34,
   "id": "654c5c40-3d04-4e38-9cf0-cec3a4b152ca",
   "metadata": {},
   "outputs": [
    {
     "data": {
      "image/png": "[encoded data removed]",
      "text/plain": [
       "<Figure size 432x288 with 1 Axes>"
      ]
     },
     "metadata": {
      "needs_background": "light"
     },
     "output_type": "display_data"
    },
    {
     "data": {
      "image/png": "[encoded data removed]",
      "text/plain": [
       "<Figure size 432x288 with 1 Axes>"
      ]
     },
     "metadata": {
      "needs_background": "light"
     },
     "output_type": "display_data"
    },
    {
     "data": {
      "image/png": "[encoded data removed]",
      "text/plain": [
       "<Figure size 432x288 with 1 Axes>"
      ]
     },
     "metadata": {
      "needs_background": "light"
     },
     "output_type": "display_data"
    },
    {
     "data": {
      "image/png": "[encoded data removed]",
      "text/plain": [
       "<Figure size 432x288 with 1 Axes>"
      ]
     },
     "metadata": {
      "needs_background": "light"
     },
     "output_type": "display_data"
    },
    {
     "data": {
      "image/png": "[encoded data removed]",
      "text/plain": [
       "<Figure size 432x288 with 1 Axes>"
      ]
     },
     "metadata": {
      "needs_background": "light"
     },
     "output_type": "display_data"
    },
    {
     "data": {
      "image/png": "[encoded data removed]",
      "text/plain": [
       "<Figure size 432x288 with 1 Axes>"
      ]
     },
     "metadata": {
      "needs_background": "light"
     },
     "output_type": "display_data"
    },
    {
     "data": {
      "image/png": "[encoded data removed]",
      "text/plain": [
       "<Figure size 432x288 with 1 Axes>"
      ]
     },
     "metadata": {
      "needs_background": "light"
     },
     "output_type": "display_data"
    },
    {
     "data": {
      "image/png": "[encoded data removed]",
      "text/plain": [
       "<Figure size 432x288 with 1 Axes>"
      ]
     },
     "metadata": {
      "needs_background": "light"
     },
     "output_type": "display_data"
    },
    {
     "data": {
      "image/png": "[encoded data removed]",
      "text/plain": [
       "<Figure size 432x288 with 1 Axes>"
      ]
     },
     "metadata": {
      "needs_background": "light"
     },
     "output_type": "display_data"
    },
    {
     "data": {
      "image/png": "[encoded data removed]",
      "text/plain": [
       "<Figure size 432x288 with 1 Axes>"
      ]
     },
     "metadata": {
      "needs_background": "light"
     },
     "output_type": "display_data"
    },
    {
     "data": {
      "image/png": "[encoded data removed]",
      "text/plain": [
       "<Figure size 432x288 with 1 Axes>"
      ]
     },
     "metadata": {
      "needs_background": "light"
     },
     "output_type": "display_data"
    },
    {
     "data": {
      "image/png": "[encoded data removed]",
      "text/plain": [
       "<Figure size 432x288 with 1 Axes>"
      ]
     },
     "metadata": {
      "needs_background": "light"
     },
     "output_type": "display_data"
    },
    {
     "data": {
      "image/png": "[encoded data removed]",
      "text/plain": [
       "<Figure size 432x288 with 1 Axes>"
      ]
     },
     "metadata": {
      "needs_background": "light"
     },
     "output_type": "display_data"
    },
    {
     "data": {
      "image/png": "[encoded data removed]",
      "text/plain": [
       "<Figure size 432x288 with 1 Axes>"
      ]
     },
     "metadata": {
      "needs_background": "light"
     },
     "output_type": "display_data"
    }
   ],
   "source": [
    "list_cols = list(cols)\n",
    "for col in list_cols:\n",
    "    fig7, ax7 = plt.subplots()\n",
    "    ax7.boxplot(\n",
    "        [\n",
    "            (df_predictions_zero[col] - df_predictions_zero[\"Actual\"]),\n",
    "            (df_predictions_one[col] - df_predictions_one[\"Actual\"]),\n",
    "        ]\n",
    "    )\n",
    "    plt.show()"
   ]
  },
  {
   "cell_type": "markdown",
   "id": "5acc2efc-ce6d-40e4-a639-7620fb7224ca",
   "metadata": {},
   "source": [
    "## Visualising the fairness-accuracy tradeoff"
   ]
  },
  {
   "cell_type": "code",
   "execution_count": 35,
   "id": "ee98476a-ad22-497d-b6dc-82d2767ebccc",
   "metadata": {},
   "outputs": [
    {
     "data": {
      "image/png": "[encoded data removed]",
      "text/plain": [
       "<Figure size 432x288 with 1 Axes>"
      ]
     },
     "metadata": {
      "needs_background": "light"
     },
     "output_type": "display_data"
    }
   ],
   "source": [
    "sns.scatterplot(\n",
    "    data=Results,\n",
    "    x=\"Root Mean Squared Error\",\n",
    "    y=\"Mean Errors difference between groups\",\n",
    "    hue=\"Models\",\n",
    ")\n",
    "plt.legend(bbox_to_anchor=(1.05, 1), loc=\"upper left\", borderaxespad=0)\n",
    "plt.xlabel(\"RMSE\")\n",
    "plt.ylabel(\"FS1\")\n",
    "lgd = plt.legend(bbox_to_anchor=(1.05, 1), loc=\"upper left\", borderaxespad=0)\n",
    "plt.savefig(\"FS1_tradeoff_student.jpg\", bbox_extra_artists=(lgd,), bbox_inches=\"tight\")"
   ]
  },
  {
   "cell_type": "code",
   "execution_count": 36,
   "id": "4761204d-c734-44b7-aa90-6d2ffde3ead5",
   "metadata": {},
   "outputs": [
    {
     "data": {
      "image/png": "[encoded data removed]",
      "text/plain": [
       "<Figure size 432x288 with 1 Axes>"
      ]
     },
     "metadata": {
      "needs_background": "light"
     },
     "output_type": "display_data"
    }
   ],
   "source": [
    "sns.scatterplot(\n",
    "    data=Results,\n",
    "    x=\"Root Mean Squared Error\",\n",
    "    y=\"Root-mean-squared error ratio between groups\",\n",
    "    hue=\"Models\",\n",
    ")\n",
    "plt.legend(bbox_to_anchor=(1.05, 1), loc=\"upper left\", borderaxespad=0)\n",
    "plt.xlabel(\"RMSE\")\n",
    "plt.ylabel(\"FS2\")\n",
    "lgd = plt.legend(bbox_to_anchor=(1.05, 1), loc=\"upper left\", borderaxespad=0)\n",
    "plt.savefig(\"FS2_tradeoff_student.jpg\", bbox_extra_artists=(lgd,), bbox_inches=\"tight\")"
   ]
  }
 ],
 "metadata": {
  "kernelspec": {
   "display_name": "Python 3 (ipykernel)",
   "language": "python",
   "name": "python3"
  },
  "language_info": {
   "codemirror_mode": {
    "name": "ipython",
    "version": 3
   },
   "file_extension": ".py",
   "mimetype": "text/x-python",
   "name": "python",
   "nbconvert_exporter": "python",
   "pygments_lexer": "ipython3",
   "version": "3.9.7"
  }
 },
 "nbformat": 4,
 "nbformat_minor": 5
}
