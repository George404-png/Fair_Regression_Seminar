{
 "cells": [
  {
   "cell_type": "code",
   "execution_count": 1,
   "id": "4ee1078a-f0e4-453e-bab7-c8822ecc508a",
   "metadata": {},
   "outputs": [],
   "source": [
    "import warnings\n",
    "\n",
    "warnings.filterwarnings(\"ignore\")\n",
    "\n",
    "import math\n",
    "from math import sqrt\n",
    "\n",
    "import LESS_main.less.less_reductions as ls\n",
    "import LESS_main.less.less_reweighing as lsr\n",
    "import matplotlib.pyplot as plt\n",
    "import numpy as np\n",
    "import pandas as pd\n",
    "import seaborn as sns\n",
    "import torch\n",
    "import torch.nn as nn\n",
    "from fairlearn import preprocessing, reductions\n",
    "from fairlearn.metrics import MetricFrame, count, selection_rate\n",
    "from fairlearn.reductions import (\n",
    "    BoundedGroupLoss,\n",
    "    DemographicParity,\n",
    "    ErrorRate,\n",
    "    GridSearch,\n",
    "    SquareLoss,\n",
    "    ZeroOneLoss,\n",
    ")\n",
    "from LESS_main.less.less import LESSRegressor\n",
    "from scipy.stats import kde\n",
    "from sklearn.linear_model import LinearRegression\n",
    "from sklearn.metrics import mean_squared_error\n",
    "from sklearn.model_selection import train_test_split\n",
    "from sklearn.preprocessing import KBinsDiscretizer\n",
    "from tqdm import tqdm\n",
    "\n",
    "from fair_dummies import fair_dummies_learning, utility_functions\n",
    "\n",
    "seed = 123"
   ]
  },
  {
   "cell_type": "markdown",
   "id": "31b5ab07-4f8a-411e-b2de-e78f85c92f1f",
   "metadata": {},
   "source": [
    "# Communities and Crime Dataset"
   ]
  },
  {
   "cell_type": "code",
   "execution_count": 2,
   "id": "d47be36a",
   "metadata": {},
   "outputs": [
    {
     "data": {
      "text/html": [
       "<div>\n",
       "<style scoped>\n",
       "    .dataframe tbody tr th:only-of-type {\n",
       "        vertical-align: middle;\n",
       "    }\n",
       "\n",
       "    .dataframe tbody tr th {\n",
       "        vertical-align: top;\n",
       "    }\n",
       "\n",
       "    .dataframe thead th {\n",
       "        text-align: right;\n",
       "    }\n",
       "</style>\n",
       "<table border=\"1\" class=\"dataframe\">\n",
       "  <thead>\n",
       "    <tr style=\"text-align: right;\">\n",
       "      <th></th>\n",
       "      <th>racePctWhite numeric</th>\n",
       "      <th>OtherPerCap numeric</th>\n",
       "      <th>PctBSorMore numeric</th>\n",
       "      <th>PctKids2Par numeric</th>\n",
       "      <th>PctWorkMom numeric</th>\n",
       "      <th>PctIlleg numeric</th>\n",
       "      <th>PctImmigRec8 numeric</th>\n",
       "      <th>PctLargHouseFam numeric</th>\n",
       "      <th>MedRentPctHousInc numeric</th>\n",
       "      <th>NumStreet numeric</th>\n",
       "      <th>PopDens numeric</th>\n",
       "      <th>state numeric</th>\n",
       "      <th>ViolentCrimesPerPop numeric</th>\n",
       "      <th>race_dummy</th>\n",
       "    </tr>\n",
       "  </thead>\n",
       "  <tbody>\n",
       "    <tr>\n",
       "      <th>0</th>\n",
       "      <td>0.90</td>\n",
       "      <td>0.36</td>\n",
       "      <td>0.48</td>\n",
       "      <td>0.59</td>\n",
       "      <td>0.76</td>\n",
       "      <td>0.14</td>\n",
       "      <td>0.37</td>\n",
       "      <td>0.14</td>\n",
       "      <td>0.38</td>\n",
       "      <td>0.0</td>\n",
       "      <td>0.26</td>\n",
       "      <td>8</td>\n",
       "      <td>0.20</td>\n",
       "      <td>0</td>\n",
       "    </tr>\n",
       "    <tr>\n",
       "      <th>1</th>\n",
       "      <td>0.74</td>\n",
       "      <td>0.22</td>\n",
       "      <td>0.30</td>\n",
       "      <td>0.47</td>\n",
       "      <td>0.53</td>\n",
       "      <td>0.24</td>\n",
       "      <td>0.64</td>\n",
       "      <td>0.16</td>\n",
       "      <td>0.29</td>\n",
       "      <td>0.0</td>\n",
       "      <td>0.12</td>\n",
       "      <td>53</td>\n",
       "      <td>0.67</td>\n",
       "      <td>0</td>\n",
       "    </tr>\n",
       "    <tr>\n",
       "      <th>2</th>\n",
       "      <td>0.56</td>\n",
       "      <td>0.28</td>\n",
       "      <td>0.19</td>\n",
       "      <td>0.44</td>\n",
       "      <td>0.67</td>\n",
       "      <td>0.46</td>\n",
       "      <td>0.15</td>\n",
       "      <td>0.20</td>\n",
       "      <td>0.48</td>\n",
       "      <td>0.0</td>\n",
       "      <td>0.21</td>\n",
       "      <td>24</td>\n",
       "      <td>0.43</td>\n",
       "      <td>0</td>\n",
       "    </tr>\n",
       "    <tr>\n",
       "      <th>3</th>\n",
       "      <td>0.08</td>\n",
       "      <td>0.36</td>\n",
       "      <td>0.31</td>\n",
       "      <td>0.54</td>\n",
       "      <td>0.86</td>\n",
       "      <td>0.33</td>\n",
       "      <td>0.30</td>\n",
       "      <td>0.56</td>\n",
       "      <td>0.63</td>\n",
       "      <td>0.0</td>\n",
       "      <td>0.39</td>\n",
       "      <td>34</td>\n",
       "      <td>0.12</td>\n",
       "      <td>1</td>\n",
       "    </tr>\n",
       "    <tr>\n",
       "      <th>4</th>\n",
       "      <td>0.95</td>\n",
       "      <td>0.51</td>\n",
       "      <td>0.33</td>\n",
       "      <td>0.91</td>\n",
       "      <td>0.60</td>\n",
       "      <td>0.06</td>\n",
       "      <td>0.20</td>\n",
       "      <td>0.16</td>\n",
       "      <td>0.22</td>\n",
       "      <td>0.0</td>\n",
       "      <td>0.09</td>\n",
       "      <td>42</td>\n",
       "      <td>0.03</td>\n",
       "      <td>0</td>\n",
       "    </tr>\n",
       "  </tbody>\n",
       "</table>\n",
       "</div>"
      ],
      "text/plain": [
       "   racePctWhite numeric  OtherPerCap numeric  PctBSorMore numeric  \\\n",
       "0                  0.90                 0.36                 0.48   \n",
       "1                  0.74                 0.22                 0.30   \n",
       "2                  0.56                 0.28                 0.19   \n",
       "3                  0.08                 0.36                 0.31   \n",
       "4                  0.95                 0.51                 0.33   \n",
       "\n",
       "   PctKids2Par numeric  PctWorkMom numeric  PctIlleg numeric  \\\n",
       "0                 0.59                0.76              0.14   \n",
       "1                 0.47                0.53              0.24   \n",
       "2                 0.44                0.67              0.46   \n",
       "3                 0.54                0.86              0.33   \n",
       "4                 0.91                0.60              0.06   \n",
       "\n",
       "   PctImmigRec8 numeric  PctLargHouseFam numeric  MedRentPctHousInc numeric  \\\n",
       "0                  0.37                     0.14                       0.38   \n",
       "1                  0.64                     0.16                       0.29   \n",
       "2                  0.15                     0.20                       0.48   \n",
       "3                  0.30                     0.56                       0.63   \n",
       "4                  0.20                     0.16                       0.22   \n",
       "\n",
       "   NumStreet numeric  PopDens numeric  state numeric  \\\n",
       "0                0.0             0.26              8   \n",
       "1                0.0             0.12             53   \n",
       "2                0.0             0.21             24   \n",
       "3                0.0             0.39             34   \n",
       "4                0.0             0.09             42   \n",
       "\n",
       "   ViolentCrimesPerPop numeric  race_dummy  \n",
       "0                         0.20           0  \n",
       "1                         0.67           0  \n",
       "2                         0.43           0  \n",
       "3                         0.12           1  \n",
       "4                         0.03           0  "
      ]
     },
     "execution_count": 2,
     "metadata": {},
     "output_type": "execute_result"
    }
   ],
   "source": [
    "# Importing communities and crime dataset\n",
    "attribute_names = [\n",
    "    \"state numeric\",\n",
    "    \"county numeric\",\n",
    "    \"community numeric\",\n",
    "    \"communityname string\",\n",
    "    \"fold numeric\",\n",
    "    \"population numeric\",\n",
    "    \"householdsize numeric\",\n",
    "    \"racepctblack numeric\",\n",
    "    \"racePctWhite numeric\",\n",
    "    \"racePctAsian numeric\",\n",
    "    \"racePctHisp numeric\",\n",
    "    \"agePct12t21 numeric\",\n",
    "    \"agePct12t29 numeric\",\n",
    "    \"agePct16t24 numeric\",\n",
    "    \"agePct65up numeric\",\n",
    "    \"numbUrban numeric\",\n",
    "    \"pctUrban numeric\",\n",
    "    \"medIncome numeric\",\n",
    "    \"pctWWage numeric\",\n",
    "    \"pctWFarmSelf numeric\",\n",
    "    \"pctWInvInc numeric\",\n",
    "    \"pctWSocSec numeric\",\n",
    "    \"pctWPubAsst numeric\",\n",
    "    \"pctWRetire numeric\",\n",
    "    \"medFamInc numeric\",\n",
    "    \"perCapInc numeric\",\n",
    "    \"whitePerCap numeric\",\n",
    "    \"blackPerCap numeric\",\n",
    "    \"indianPerCap numeric\",\n",
    "    \"AsianPerCap numeric\",\n",
    "    \"OtherPerCap numeric\",\n",
    "    \"HispPerCap numeric\",\n",
    "    \"NumUnderPov numeric\",\n",
    "    \"PctPopUnderPov numeric\",\n",
    "    \"PctLess9thGrade numeric\",\n",
    "    \"PctNotHSGrad numeric\",\n",
    "    \"PctBSorMore numeric\",\n",
    "    \"PctUnemployed numeric\",\n",
    "    \"PctEmploy numeric\",\n",
    "    \"PctEmplManu numeric\",\n",
    "    \"PctEmplProfServ numeric\",\n",
    "    \"PctOccupManu numeric\",\n",
    "    \"PctOccupMgmtProf numeric\",\n",
    "    \"MalePctDivorce numeric\",\n",
    "    \"MalePctNevMarr numeric\",\n",
    "    \"FemalePctDiv numeric\",\n",
    "    \"TotalPctDiv numeric\",\n",
    "    \"PersPerFam numeric\",\n",
    "    \"PctFam2Par numeric\",\n",
    "    \"PctKids2Par numeric\",\n",
    "    \"PctYoungKids2Par numeric\",\n",
    "    \"PctTeen2Par numeric\",\n",
    "    \"PctWorkMomYoungKids numeric\",\n",
    "    \"PctWorkMom numeric\",\n",
    "    \"NumIlleg numeric\",\n",
    "    \"PctIlleg numeric\",\n",
    "    \"NumImmig numeric\",\n",
    "    \"PctImmigRecent numeric\",\n",
    "    \"PctImmigRec5 numeric\",\n",
    "    \"PctImmigRec8 numeric\",\n",
    "    \"PctImmigRec10 numeric\",\n",
    "    \"PctRecentImmig numeric\",\n",
    "    \"PctRecImmig5 numeric\",\n",
    "    \"PctRecImmig8 numeric\",\n",
    "    \"PctRecImmig10 numeric\",\n",
    "    \"PctSpeakEnglOnly numeric\",\n",
    "    \"PctNotSpeakEnglWell numeric\",\n",
    "    \"PctLargHouseFam numeric\",\n",
    "    \"PctLargHouseOccup numeric\",\n",
    "    \"PersPerOccupHous numeric\",\n",
    "    \"PersPerOwnOccHous numeric\",\n",
    "    \"PersPerRentOccHous numeric\",\n",
    "    \"PctPersOwnOccup numeric\",\n",
    "    \"PctPersDenseHous numeric\",\n",
    "    \"PctHousLess3BR numeric\",\n",
    "    \"MedNumBR numeric\",\n",
    "    \"HousVacant numeric\",\n",
    "    \"PctHousOccup numeric\",\n",
    "    \"PctHousOwnOcc numeric\",\n",
    "    \"PctVacantBoarded numeric\",\n",
    "    \"PctVacMore6Mos numeric\",\n",
    "    \"MedYrHousBuilt numeric\",\n",
    "    \"PctHousNoPhone numeric\",\n",
    "    \"PctWOFullPlumb numeric\",\n",
    "    \"OwnOccLowQuart numeric\",\n",
    "    \"OwnOccMedVal numeric\",\n",
    "    \"OwnOccHiQuart numeric\",\n",
    "    \"RentLowQ numeric\",\n",
    "    \"RentMedian numeric\",\n",
    "    \"RentHighQ numeric\",\n",
    "    \"MedRent numeric\",\n",
    "    \"MedRentPctHousInc numeric\",\n",
    "    \"MedOwnCostPctInc numeric\",\n",
    "    \"MedOwnCostPctIncNoMtg numeric\",\n",
    "    \"NumInShelters numeric\",\n",
    "    \"NumStreet numeric\",\n",
    "    \"PctForeignBorn numeric\",\n",
    "    \"PctBornSameState numeric\",\n",
    "    \"PctSameHouse85 numeric\",\n",
    "    \"PctSameCity85 numeric\",\n",
    "    \"PctSameState85 numeric\",\n",
    "    \"LemasSwornFT numeric\",\n",
    "    \"LemasSwFTPerPop numeric\",\n",
    "    \"LemasSwFTFieldOps numeric\",\n",
    "    \"LemasSwFTFieldPerPop numeric\",\n",
    "    \"LemasTotalReq numeric\",\n",
    "    \"LemasTotReqPerPop numeric\",\n",
    "    \"PolicReqPerOffic numeric\",\n",
    "    \"PolicPerPop numeric\",\n",
    "    \"RacialMatchCommPol numeric\",\n",
    "    \"PctPolicWhite numeric\",\n",
    "    \"PctPolicBlack numeric\",\n",
    "    \"PctPolicHisp numeric\",\n",
    "    \"PctPolicAsian numeric\",\n",
    "    \"PctPolicMinor numeric\",\n",
    "    \"OfficAssgnDrugUnits numeric\",\n",
    "    \"NumKindsDrugsSeiz numeric\",\n",
    "    \"PolicAveOTWorked numeric\",\n",
    "    \"LandArea numeric\",\n",
    "    \"PopDens numeric\",\n",
    "    \"PctUsePubTrans numeric\",\n",
    "    \"PolicCars numeric\",\n",
    "    \"PolicOperBudg numeric\",\n",
    "    \"LemasPctPolicOnPatr numeric\",\n",
    "    \"LemasGangUnitDeploy numeric\",\n",
    "    \"LemasPctOfficDrugUn numeric\",\n",
    "    \"PolicBudgPerPop numeric\",\n",
    "    \"ViolentCrimesPerPop numeric\",\n",
    "]\n",
    "df = pd.read_csv(\n",
    "    \"https://archive.ics.uci.edu/ml/machine-learning-databases/communities/communities.data\",\n",
    "    names=attribute_names,\n",
    ")\n",
    "\n",
    "# Replacing missing values with Nan\n",
    "df = df.replace(\"?\", np.nan)\n",
    "\n",
    "# Creating binary sensitive variable\n",
    "# Condition: % black greater than % white, % asian and % hispanic\n",
    "df[\"race_dummy\"] = np.where(\n",
    "    (df[\"racepctblack numeric\"] > df[\"racePctWhite numeric\"])\n",
    "    & (df[\"racepctblack numeric\"] > df[\"racePctAsian numeric\"])\n",
    "    & (df[\"racepctblack numeric\"] > df[\"racePctHisp numeric\"]),\n",
    "    1,\n",
    "    0,\n",
    ")\n",
    "\n",
    "# Keeping all predictive columns\n",
    "keep = [\n",
    "    \"racePctWhite numeric\",\n",
    "    \"OtherPerCap numeric\",\n",
    "    \"PctBSorMore numeric\",\n",
    "    \"PctKids2Par numeric\",\n",
    "    \"PctWorkMom numeric\",\n",
    "    \"PctIlleg numeric\",\n",
    "    \"PctImmigRec8 numeric\",\n",
    "    \"PctLargHouseFam numeric\",\n",
    "    \"MedRentPctHousInc numeric\",\n",
    "    \"NumStreet numeric\",\n",
    "    \"PopDens numeric\",\n",
    "    \"state numeric\",\n",
    "    \"ViolentCrimesPerPop numeric\",\n",
    "    \"race_dummy\",\n",
    "]\n",
    "\n",
    "df = df[keep]\n",
    "\n",
    "df[\"OtherPerCap numeric\"] = pd.to_numeric(df[\"OtherPerCap numeric\"])\n",
    "\n",
    "df.head()"
   ]
  },
  {
   "cell_type": "code",
   "execution_count": 3,
   "id": "8acde90b",
   "metadata": {},
   "outputs": [],
   "source": [
    "# Establishing dependent and independent variables\n",
    "X = list(df.columns)\n",
    "Y = X[len(X) - 2]\n",
    "\n",
    "del X[len(X) - 2]\n",
    "Y, X\n",
    "\n",
    "train_df = df.dropna()"
   ]
  },
  {
   "cell_type": "code",
   "execution_count": 4,
   "id": "bd479cff",
   "metadata": {},
   "outputs": [],
   "source": [
    "# Generating train-test split\n",
    "X_train, X_test, y_train, y_test = train_test_split(\n",
    "    train_df[X], train_df[Y], test_size=0.3, random_state=seed\n",
    ")"
   ]
  },
  {
   "cell_type": "code",
   "execution_count": 5,
   "id": "f7393d97-de0d-488c-be58-51516c0d4f5a",
   "metadata": {},
   "outputs": [],
   "source": [
    "X_train = X_train[\n",
    "    [\"race_dummy\"] + [col for col in X_train.columns if col != \"race_dummy\"]\n",
    "]\n",
    "X_test = X_test[[\"race_dummy\"] + [col for col in X_test.columns if col != \"race_dummy\"]]"
   ]
  },
  {
   "cell_type": "markdown",
   "id": "6c540c66-bc7d-4acf-b963-9cc99094ad5a",
   "metadata": {},
   "source": [
    "# Models"
   ]
  },
  {
   "cell_type": "markdown",
   "id": "5e226612",
   "metadata": {},
   "source": [
    "## Baseline Model Training"
   ]
  },
  {
   "cell_type": "markdown",
   "id": "11bcd1b5-6039-4281-b886-831034185b06",
   "metadata": {},
   "source": [
    "### Linear Regression Baseline"
   ]
  },
  {
   "cell_type": "code",
   "execution_count": 6,
   "id": "b690c218-374b-492e-8ec3-a4af6e0f5766",
   "metadata": {},
   "outputs": [],
   "source": [
    "linreg_baseline = LinearRegression()\n",
    "linreg_baseline.fit(X_train, y_train)\n",
    "y_linreg_baseline_pred = linreg_baseline.predict(X_test)"
   ]
  },
  {
   "cell_type": "markdown",
   "id": "13d686d0-01ea-4c52-9381-8ff818c67492",
   "metadata": {},
   "source": [
    "### LESS Baseline"
   ]
  },
  {
   "cell_type": "code",
   "execution_count": 7,
   "id": "e22fe792",
   "metadata": {},
   "outputs": [
    {
     "name": "stderr",
     "output_type": "stream",
     "text": [
      "100%|██████████| 20/20 [00:00<00:00, 158.84it/s]\n"
     ]
    }
   ],
   "source": [
    "LESS_model = LESSRegressor(frac=0.2, random_state=seed)\n",
    "LESS_model.fit(X_train, y_train)\n",
    "y_pred_baseline = LESS_model.predict(X_test)"
   ]
  },
  {
   "cell_type": "markdown",
   "id": "dc100bb0",
   "metadata": {},
   "source": [
    "## Correlation Remover"
   ]
  },
  {
   "cell_type": "markdown",
   "id": "3814aa19-2591-41a7-8e47-e1dcbbf80047",
   "metadata": {},
   "source": [
    "Remove Correlation from our training X. Cannot be done for test set as technically don't have y of test set"
   ]
  },
  {
   "cell_type": "code",
   "execution_count": 8,
   "id": "ccf7669e",
   "metadata": {},
   "outputs": [],
   "source": [
    "# Object used to remove correlation\n",
    "correlation_remover_train = preprocessing.CorrelationRemover(\n",
    "    sensitive_feature_ids=[\"race_dummy\"]\n",
    ")\n",
    "correlation_remover_train.fit(X_train, y_train)\n",
    "\n",
    "# Removing correlation from our training set\n",
    "X_train_uncorr = correlation_remover_train.transform(X_train)\n",
    "X_train_uncorr_wr = np.concatenate(\n",
    "    (np.array(X_train[\"race_dummy\"]).reshape(-1, 1), X_train_uncorr), axis=1\n",
    ")"
   ]
  },
  {
   "cell_type": "markdown",
   "id": "b5520444-2809-4462-8ed5-1c5e5a065a50",
   "metadata": {},
   "source": [
    "### Linear Regression with Correlation Remover"
   ]
  },
  {
   "cell_type": "code",
   "execution_count": 9,
   "id": "d35e42ca-28af-4e75-b2e7-ce323b8c87aa",
   "metadata": {},
   "outputs": [],
   "source": [
    "linreg_uncorr = LinearRegression()\n",
    "linreg_uncorr.fit(X_train_uncorr_wr, y_train)\n",
    "y_linreg_uncorr_pred = linreg_uncorr.predict(X_test)"
   ]
  },
  {
   "cell_type": "markdown",
   "id": "1cd914aa-7d62-43e0-92ab-b692936a468a",
   "metadata": {},
   "source": [
    "### LESS with Correlation Remover"
   ]
  },
  {
   "cell_type": "code",
   "execution_count": 10,
   "id": "f5a27c60-4a28-4143-9cb3-391915108f5d",
   "metadata": {},
   "outputs": [
    {
     "name": "stderr",
     "output_type": "stream",
     "text": [
      "100%|██████████| 20/20 [00:00<00:00, 152.00it/s]\n"
     ]
    }
   ],
   "source": [
    "LESS_model_uncorr_wr = LESSRegressor(frac=0.2, random_state=seed)\n",
    "LESS_model_uncorr_wr.fit(X_train_uncorr_wr, y_train)\n",
    "y_pred_uncorr_wr = LESS_model_uncorr_wr.predict(X_test)"
   ]
  },
  {
   "cell_type": "markdown",
   "id": "350f1335-0438-45c3-a092-df8d8441dd3f",
   "metadata": {},
   "source": [
    "## Discretisation and Reweighting"
   ]
  },
  {
   "cell_type": "code",
   "execution_count": 11,
   "id": "c4bde017-6065-47e5-9b96-b711bfc5b08b",
   "metadata": {},
   "outputs": [
    {
     "data": {
      "image/png": "[encoded data removed]",
      "text/plain": [
       "<Figure size 432x288 with 1 Axes>"
      ]
     },
     "metadata": {
      "needs_background": "light"
     },
     "output_type": "display_data"
    }
   ],
   "source": [
    "# Distribution of outcome variable\n",
    "sns.histplot(df[Y], kde=False, bins=10)\n",
    "plt.show()"
   ]
  },
  {
   "cell_type": "code",
   "execution_count": 12,
   "id": "dd10c2b1-7b7a-462d-81de-3b8b6fa213d5",
   "metadata": {},
   "outputs": [
    {
     "data": {
      "text/html": [
       "<div>\n",
       "<style scoped>\n",
       "    .dataframe tbody tr th:only-of-type {\n",
       "        vertical-align: middle;\n",
       "    }\n",
       "\n",
       "    .dataframe tbody tr th {\n",
       "        vertical-align: top;\n",
       "    }\n",
       "\n",
       "    .dataframe thead th {\n",
       "        text-align: right;\n",
       "    }\n",
       "</style>\n",
       "<table border=\"1\" class=\"dataframe\">\n",
       "  <thead>\n",
       "    <tr style=\"text-align: right;\">\n",
       "      <th></th>\n",
       "      <th>racePctWhite numeric</th>\n",
       "      <th>OtherPerCap numeric</th>\n",
       "      <th>PctBSorMore numeric</th>\n",
       "      <th>PctKids2Par numeric</th>\n",
       "      <th>PctWorkMom numeric</th>\n",
       "      <th>PctIlleg numeric</th>\n",
       "      <th>PctImmigRec8 numeric</th>\n",
       "      <th>PctLargHouseFam numeric</th>\n",
       "      <th>MedRentPctHousInc numeric</th>\n",
       "      <th>NumStreet numeric</th>\n",
       "      <th>PopDens numeric</th>\n",
       "      <th>state numeric</th>\n",
       "      <th>ViolentCrimesPerPop numeric</th>\n",
       "      <th>race_dummy</th>\n",
       "      <th>ViolentCrimesPerPop class</th>\n",
       "    </tr>\n",
       "  </thead>\n",
       "  <tbody>\n",
       "    <tr>\n",
       "      <th>0</th>\n",
       "      <td>0.90</td>\n",
       "      <td>0.36</td>\n",
       "      <td>0.48</td>\n",
       "      <td>0.59</td>\n",
       "      <td>0.76</td>\n",
       "      <td>0.14</td>\n",
       "      <td>0.37</td>\n",
       "      <td>0.14</td>\n",
       "      <td>0.38</td>\n",
       "      <td>0.0</td>\n",
       "      <td>0.26</td>\n",
       "      <td>8</td>\n",
       "      <td>0.20</td>\n",
       "      <td>0</td>\n",
       "      <td>2.0</td>\n",
       "    </tr>\n",
       "    <tr>\n",
       "      <th>1</th>\n",
       "      <td>0.74</td>\n",
       "      <td>0.22</td>\n",
       "      <td>0.30</td>\n",
       "      <td>0.47</td>\n",
       "      <td>0.53</td>\n",
       "      <td>0.24</td>\n",
       "      <td>0.64</td>\n",
       "      <td>0.16</td>\n",
       "      <td>0.29</td>\n",
       "      <td>0.0</td>\n",
       "      <td>0.12</td>\n",
       "      <td>53</td>\n",
       "      <td>0.67</td>\n",
       "      <td>0</td>\n",
       "      <td>6.0</td>\n",
       "    </tr>\n",
       "    <tr>\n",
       "      <th>2</th>\n",
       "      <td>0.56</td>\n",
       "      <td>0.28</td>\n",
       "      <td>0.19</td>\n",
       "      <td>0.44</td>\n",
       "      <td>0.67</td>\n",
       "      <td>0.46</td>\n",
       "      <td>0.15</td>\n",
       "      <td>0.20</td>\n",
       "      <td>0.48</td>\n",
       "      <td>0.0</td>\n",
       "      <td>0.21</td>\n",
       "      <td>24</td>\n",
       "      <td>0.43</td>\n",
       "      <td>0</td>\n",
       "      <td>4.0</td>\n",
       "    </tr>\n",
       "    <tr>\n",
       "      <th>3</th>\n",
       "      <td>0.08</td>\n",
       "      <td>0.36</td>\n",
       "      <td>0.31</td>\n",
       "      <td>0.54</td>\n",
       "      <td>0.86</td>\n",
       "      <td>0.33</td>\n",
       "      <td>0.30</td>\n",
       "      <td>0.56</td>\n",
       "      <td>0.63</td>\n",
       "      <td>0.0</td>\n",
       "      <td>0.39</td>\n",
       "      <td>34</td>\n",
       "      <td>0.12</td>\n",
       "      <td>1</td>\n",
       "      <td>1.0</td>\n",
       "    </tr>\n",
       "    <tr>\n",
       "      <th>4</th>\n",
       "      <td>0.95</td>\n",
       "      <td>0.51</td>\n",
       "      <td>0.33</td>\n",
       "      <td>0.91</td>\n",
       "      <td>0.60</td>\n",
       "      <td>0.06</td>\n",
       "      <td>0.20</td>\n",
       "      <td>0.16</td>\n",
       "      <td>0.22</td>\n",
       "      <td>0.0</td>\n",
       "      <td>0.09</td>\n",
       "      <td>42</td>\n",
       "      <td>0.03</td>\n",
       "      <td>0</td>\n",
       "      <td>0.0</td>\n",
       "    </tr>\n",
       "  </tbody>\n",
       "</table>\n",
       "</div>"
      ],
      "text/plain": [
       "   racePctWhite numeric  OtherPerCap numeric  PctBSorMore numeric  \\\n",
       "0                  0.90                 0.36                 0.48   \n",
       "1                  0.74                 0.22                 0.30   \n",
       "2                  0.56                 0.28                 0.19   \n",
       "3                  0.08                 0.36                 0.31   \n",
       "4                  0.95                 0.51                 0.33   \n",
       "\n",
       "   PctKids2Par numeric  PctWorkMom numeric  PctIlleg numeric  \\\n",
       "0                 0.59                0.76              0.14   \n",
       "1                 0.47                0.53              0.24   \n",
       "2                 0.44                0.67              0.46   \n",
       "3                 0.54                0.86              0.33   \n",
       "4                 0.91                0.60              0.06   \n",
       "\n",
       "   PctImmigRec8 numeric  PctLargHouseFam numeric  MedRentPctHousInc numeric  \\\n",
       "0                  0.37                     0.14                       0.38   \n",
       "1                  0.64                     0.16                       0.29   \n",
       "2                  0.15                     0.20                       0.48   \n",
       "3                  0.30                     0.56                       0.63   \n",
       "4                  0.20                     0.16                       0.22   \n",
       "\n",
       "   NumStreet numeric  PopDens numeric  state numeric  \\\n",
       "0                0.0             0.26              8   \n",
       "1                0.0             0.12             53   \n",
       "2                0.0             0.21             24   \n",
       "3                0.0             0.39             34   \n",
       "4                0.0             0.09             42   \n",
       "\n",
       "   ViolentCrimesPerPop numeric  race_dummy  ViolentCrimesPerPop class  \n",
       "0                         0.20           0                        2.0  \n",
       "1                         0.67           0                        6.0  \n",
       "2                         0.43           0                        4.0  \n",
       "3                         0.12           1                        1.0  \n",
       "4                         0.03           0                        0.0  "
      ]
     },
     "execution_count": 12,
     "metadata": {},
     "output_type": "execute_result"
    }
   ],
   "source": [
    "# Generating a column for outcome class\n",
    "est = KBinsDiscretizer(n_bins=10, encode=\"ordinal\", strategy=\"uniform\")\n",
    "Y_np = train_df[Y].to_numpy().reshape(-1, 1)\n",
    "est.fit(Y_np)\n",
    "df_Yt = est.transform(Y_np)\n",
    "\n",
    "df_rw = train_df.copy()\n",
    "df_rw[\"ViolentCrimesPerPop class\"] = df_Yt.reshape(-1)\n",
    "df_rw.head()"
   ]
  },
  {
   "cell_type": "code",
   "execution_count": 13,
   "id": "a781b2d5-863e-4e09-9e9c-b17173c36297",
   "metadata": {},
   "outputs": [],
   "source": [
    "# Establishing dependent and independent variables\n",
    "columns = list(df_rw.columns)\n",
    "y_rw = df_rw[columns[-3]]\n",
    "del columns[-3]\n",
    "X_rw = df_rw[columns]\n",
    "\n",
    "# Generating train-test split\n",
    "X_train_rw, X_test_rw, y_train_rw, y_test_rw = train_test_split(\n",
    "    X_rw, y_rw, test_size=0.3, random_state=seed\n",
    ")"
   ]
  },
  {
   "cell_type": "code",
   "execution_count": 14,
   "id": "d4dd41bb-d97d-40bd-b8fd-b379e956bc21",
   "metadata": {},
   "outputs": [],
   "source": [
    "# Lists of sensitive attribute values and outcome classes\n",
    "sensitive = list(X_train_rw[\"race_dummy\"].unique())\n",
    "label = list(X_train_rw[\"ViolentCrimesPerPop class\"].unique())"
   ]
  },
  {
   "cell_type": "code",
   "execution_count": 15,
   "id": "7d2346e3-0d13-481f-b4c5-f9224ee1bf8c",
   "metadata": {},
   "outputs": [
    {
     "name": "stderr",
     "output_type": "stream",
     "text": [
      "100%|██████████| 2/2 [00:00<00:00, 32.34it/s]\n"
     ]
    }
   ],
   "source": [
    "# Calculating weights for each combination of sensitive attribute value\n",
    "# and outcome class using Kamiran-Calders algorithm\n",
    "weights = {}\n",
    "for i in tqdm(sensitive):\n",
    "    for j in label:\n",
    "        if (\n",
    "            len(X_train_rw)\n",
    "            * len(\n",
    "                X_train_rw[\n",
    "                    (X_train_rw[\"race_dummy\"] == i)\n",
    "                    & (X_train_rw[\"ViolentCrimesPerPop class\"] == j)\n",
    "                ]\n",
    "            )\n",
    "        ) == 0:\n",
    "            weights[(i, j)] = 0\n",
    "        else:\n",
    "            weights[(i, j)] = (\n",
    "                len(X_train_rw[X_train_rw[\"race_dummy\"] == i])\n",
    "                * len(X_train_rw[X_train_rw[\"ViolentCrimesPerPop class\"] == j])\n",
    "            ) / (\n",
    "                len(X_train_rw)\n",
    "                * len(\n",
    "                    X_train_rw[\n",
    "                        (X_train_rw[\"race_dummy\"] == i)\n",
    "                        & (X_train_rw[\"ViolentCrimesPerPop class\"] == j)\n",
    "                    ]\n",
    "                )\n",
    "            )"
   ]
  },
  {
   "cell_type": "code",
   "execution_count": 16,
   "id": "4353ac37-944e-4f32-a82f-8a379f83f547",
   "metadata": {},
   "outputs": [],
   "source": [
    "# Creating new column for sample weights\n",
    "def get_weights(a, b):\n",
    "    return weights[(a, b)]\n",
    "\n",
    "\n",
    "X_train_rw[\"weights\"] = X_train_rw.apply(\n",
    "    lambda x: get_weights(x[\"race_dummy\"], x[\"ViolentCrimesPerPop class\"]), axis=1\n",
    ")"
   ]
  },
  {
   "cell_type": "markdown",
   "id": "83c9bd04-be22-4dda-abf8-cf41800f7fce",
   "metadata": {},
   "source": [
    "### Reweighing with Linear Regression"
   ]
  },
  {
   "cell_type": "code",
   "execution_count": 17,
   "id": "664feac1-9a0f-41e1-b9ae-d255691dc653",
   "metadata": {},
   "outputs": [],
   "source": [
    "linreg_rw = LinearRegression()\n",
    "linreg_rw.fit(X_train_rw[X], y_train_rw, X_train_rw[\"weights\"])\n",
    "y_linreg_pred_rw = linreg_rw.predict(X_test_rw[X])"
   ]
  },
  {
   "cell_type": "markdown",
   "id": "1a95b683-d853-4c19-aeb5-efaddd7a91c2",
   "metadata": {},
   "source": [
    "### Reweighing with LESS"
   ]
  },
  {
   "cell_type": "code",
   "execution_count": 18,
   "id": "6bcb86b1-e59a-4dee-b28a-8ea54578bc69",
   "metadata": {},
   "outputs": [],
   "source": [
    "LESS_model_rw = lsr.LESSRegressor(frac=0.2, random_state=seed)\n",
    "LESS_model_rw.fit(X_train_rw[X], y_train_rw, X_train_rw[\"weights\"])\n",
    "y_pred_rw = LESS_model_rw.predict(X_test_rw[X])"
   ]
  },
  {
   "cell_type": "markdown",
   "id": "35f79b9c-50a8-43f4-8ca8-e50d6af3310e",
   "metadata": {},
   "source": [
    "### Hyperparameter Tuning for Reweighing (strategies and number of bins)"
   ]
  },
  {
   "cell_type": "code",
   "execution_count": 19,
   "id": "59f37e42-8d61-4374-97e2-fafdea349431",
   "metadata": {},
   "outputs": [
    {
     "name": "stdout",
     "output_type": "stream",
     "text": [
      "Test error of LESS with 2 bins, using uniform strategy: 0.1430\n",
      "Group RMSE ratio using LESS with 2 bins, using uniform strategy: 1.5885\n",
      "Group ME difference using LESS with 2 bins, using uniform strategy: -0.0393\n",
      "Test error of LESS with 3 bins, using uniform strategy: 0.1446\n",
      "Group RMSE ratio using LESS with 3 bins, using uniform strategy: 1.6180\n",
      "Group ME difference using LESS with 3 bins, using uniform strategy: -0.0637\n",
      "Test error of LESS with 4 bins, using uniform strategy: 0.1442\n",
      "Group RMSE ratio using LESS with 4 bins, using uniform strategy: 1.5861\n",
      "Group ME difference using LESS with 4 bins, using uniform strategy: -0.0546\n",
      "Test error of LESS with 5 bins, using uniform strategy: 0.1445\n",
      "Group RMSE ratio using LESS with 5 bins, using uniform strategy: 1.5947\n",
      "Group ME difference using LESS with 5 bins, using uniform strategy: -0.0571\n",
      "Test error of LESS with 6 bins, using uniform strategy: 0.1448\n",
      "Group RMSE ratio using LESS with 6 bins, using uniform strategy: 1.6066\n",
      "Group ME difference using LESS with 6 bins, using uniform strategy: -0.0655\n",
      "Test error of LESS with 7 bins, using uniform strategy: 0.1448\n",
      "Group RMSE ratio using LESS with 7 bins, using uniform strategy: 1.5811\n",
      "Group ME difference using LESS with 7 bins, using uniform strategy: -0.0524\n",
      "Test error of LESS with 8 bins, using uniform strategy: 0.1441\n",
      "Group RMSE ratio using LESS with 8 bins, using uniform strategy: 1.5887\n",
      "Group ME difference using LESS with 8 bins, using uniform strategy: -0.0491\n",
      "Test error of LESS with 9 bins, using uniform strategy: 0.1441\n",
      "Group RMSE ratio using LESS with 9 bins, using uniform strategy: 1.6007\n",
      "Group ME difference using LESS with 9 bins, using uniform strategy: -0.0535\n",
      "Test error of LESS with 10 bins, using uniform strategy: 0.1440\n",
      "Group RMSE ratio using LESS with 10 bins, using uniform strategy: 1.5911\n",
      "Group ME difference using LESS with 10 bins, using uniform strategy: -0.0487\n",
      "-----------------------------------------------------\n",
      "Test error of LESS with 2 bins, using quantile strategy: 0.1420\n",
      "Group RMSE ratio using LESS with 2 bins, using quantile strategy: 1.5765\n",
      "Group ME difference using LESS with 2 bins, using quantile strategy: -0.0012\n",
      "Test error of LESS with 3 bins, using quantile strategy: 0.1422\n",
      "Group RMSE ratio using LESS with 3 bins, using quantile strategy: 1.5735\n",
      "Group ME difference using LESS with 3 bins, using quantile strategy: -0.0216\n",
      "Test error of LESS with 4 bins, using quantile strategy: 0.1431\n",
      "Group RMSE ratio using LESS with 4 bins, using quantile strategy: 1.5766\n",
      "Group ME difference using LESS with 4 bins, using quantile strategy: -0.0381\n",
      "Test error of LESS with 5 bins, using quantile strategy: 0.1429\n",
      "Group RMSE ratio using LESS with 5 bins, using quantile strategy: 1.5778\n",
      "Group ME difference using LESS with 5 bins, using quantile strategy: -0.0345\n",
      "Test error of LESS with 6 bins, using quantile strategy: 0.1430\n",
      "Group RMSE ratio using LESS with 6 bins, using quantile strategy: 1.5692\n",
      "Group ME difference using LESS with 6 bins, using quantile strategy: -0.0354\n",
      "Test error of LESS with 7 bins, using quantile strategy: 0.1430\n",
      "Group RMSE ratio using LESS with 7 bins, using quantile strategy: 1.5752\n",
      "Group ME difference using LESS with 7 bins, using quantile strategy: -0.0382\n",
      "Test error of LESS with 8 bins, using quantile strategy: 0.1436\n",
      "Group RMSE ratio using LESS with 8 bins, using quantile strategy: 1.5854\n",
      "Group ME difference using LESS with 8 bins, using quantile strategy: -0.0488\n",
      "Test error of LESS with 9 bins, using quantile strategy: 0.1433\n",
      "Group RMSE ratio using LESS with 9 bins, using quantile strategy: 1.5806\n",
      "Group ME difference using LESS with 9 bins, using quantile strategy: -0.0446\n",
      "Test error of LESS with 10 bins, using quantile strategy: 0.1435\n",
      "Group RMSE ratio using LESS with 10 bins, using quantile strategy: 1.5736\n",
      "Group ME difference using LESS with 10 bins, using quantile strategy: -0.0415\n",
      "-----------------------------------------------------\n"
     ]
    }
   ],
   "source": [
    "Y_np = train_df[Y].to_numpy().reshape(-1, 1)\n",
    "y_rw = train_df[Y]\n",
    "X_rw = train_df[X]\n",
    "\n",
    "# List of bin numbers to try\n",
    "bins = [2, 3, 4, 5, 6, 7, 8, 9, 10]\n",
    "\n",
    "# List of two binning strategies to try\n",
    "strategies = [\"uniform\", \"quantile\"]\n",
    "weights = {}\n",
    "\n",
    "df_predictions_weights = pd.DataFrame(\n",
    "    {\"Actual\": y_test, \"Sensitive Attribute\": X_test[\"race_dummy\"],}\n",
    ")\n",
    "\n",
    "\n",
    "def get_weights(a, b):\n",
    "    return weights[(a, b)]\n",
    "\n",
    "\n",
    "for s in strategies:\n",
    "    for b in bins:\n",
    "        est = KBinsDiscretizer(n_bins=b, encode=\"ordinal\", strategy=s)\n",
    "        est.fit(Y_np)\n",
    "        df_Yt = est.transform(Y_np)\n",
    "        X_rw[\"ViolentCrimesPerPop class\"] = df_Yt.reshape(-1)\n",
    "\n",
    "        X_train_rw, X_test_rw, y_train_rw, y_test_rw = train_test_split(\n",
    "            X_rw, y_rw, test_size=0.3, random_state=seed\n",
    "        )\n",
    "\n",
    "        sensitive = list(X_train_rw[\"race_dummy\"].unique())\n",
    "        label = list(X_train_rw[\"ViolentCrimesPerPop class\"].unique())\n",
    "        sensitive, label\n",
    "\n",
    "        weights = {}\n",
    "        for i in sensitive:\n",
    "            for j in label:\n",
    "                if (\n",
    "                    len(X_train_rw)\n",
    "                    * len(\n",
    "                        X_train_rw[\n",
    "                            (X_train_rw[\"race_dummy\"] == i)\n",
    "                            & (X_train_rw[\"ViolentCrimesPerPop class\"] == j)\n",
    "                        ]\n",
    "                    )\n",
    "                ) == 0:\n",
    "                    weights[(i, j)] = 0\n",
    "                else:\n",
    "                    weights[(i, j)] = (\n",
    "                        len(X_train_rw[X_train_rw[\"race_dummy\"] == i])\n",
    "                        * len(X_train_rw[X_train_rw[\"ViolentCrimesPerPop class\"] == j])\n",
    "                    ) / (\n",
    "                        len(X_train_rw)\n",
    "                        * len(\n",
    "                            X_train_rw[\n",
    "                                (X_train_rw[\"race_dummy\"] == i)\n",
    "                                & (X_train_rw[\"ViolentCrimesPerPop class\"] == j)\n",
    "                            ]\n",
    "                        )\n",
    "                    )\n",
    "\n",
    "        X_train_rw[\"weights\"] = X_train_rw.apply(\n",
    "            lambda x: get_weights(x[\"race_dummy\"], x[\"ViolentCrimesPerPop class\"]),\n",
    "            axis=1,\n",
    "        )\n",
    "\n",
    "        # Fitting model with sample weights associated with given combination\n",
    "        # of bin number and binning strategy\n",
    "        LESS_model_rw = lsr.LESSRegressor(frac=0.2, random_state=seed)\n",
    "        LESS_model_rw.fit(X_train_rw[X], y_train_rw, X_train_rw[\"weights\"])\n",
    "        y_pred_rw = LESS_model_rw.predict(X_test_rw[X])\n",
    "\n",
    "        # Evaluating accuracy and fairness\n",
    "        df_predictions_weights[\"Predicted\"] = y_pred_rw\n",
    "        df_predictions_weights = df_predictions_weights.reset_index(drop=True)\n",
    "        df_predictions_weights_zero = df_predictions_weights[\n",
    "            df_predictions_weights[\"Sensitive Attribute\"] == 0\n",
    "        ]\n",
    "        df_predictions_weights_one = df_predictions_weights[\n",
    "            df_predictions_weights[\"Sensitive Attribute\"] == 1\n",
    "        ]\n",
    "\n",
    "        print(\n",
    "            \"Test error of LESS with \"\n",
    "            + str(b)\n",
    "            + \" bins, using \"\n",
    "            + s\n",
    "            + \" strategy: {0:.4f}\".format(\n",
    "                math.sqrt(\n",
    "                    mean_squared_error(\n",
    "                        df_predictions_weights[\"Predicted\"],\n",
    "                        df_predictions_weights[\"Actual\"],\n",
    "                    )\n",
    "                )\n",
    "            )\n",
    "        )\n",
    "        print(\n",
    "            \"Group RMSE ratio using LESS with \"\n",
    "            + str(b)\n",
    "            + \" bins, using \"\n",
    "            + s\n",
    "            + \" strategy: {0:.4f}\".format(\n",
    "                math.sqrt(\n",
    "                    mean_squared_error(\n",
    "                        df_predictions_weights_one[\"Predicted\"],\n",
    "                        df_predictions_weights_one[\"Actual\"],\n",
    "                    )\n",
    "                )\n",
    "                / math.sqrt(\n",
    "                    mean_squared_error(\n",
    "                        df_predictions_weights_zero[\"Predicted\"],\n",
    "                        df_predictions_weights_zero[\"Actual\"],\n",
    "                    )\n",
    "                )\n",
    "            )\n",
    "        )\n",
    "        print(\n",
    "            \"Group ME difference using LESS with \"\n",
    "            + str(b)\n",
    "            + \" bins, using \"\n",
    "            + s\n",
    "            + \" strategy: {0:.4f}\".format(\n",
    "                (\n",
    "                    df_predictions_weights_one[\"Predicted\"]\n",
    "                    - df_predictions_weights_one[\"Actual\"]\n",
    "                ).mean()\n",
    "                - (\n",
    "                    df_predictions_weights_zero[\"Predicted\"]\n",
    "                    - df_predictions_weights_zero[\"Actual\"]\n",
    "                ).mean()\n",
    "            )\n",
    "        )\n",
    "    print(\"-----------------------------------------------------\")"
   ]
  },
  {
   "cell_type": "markdown",
   "id": "6c38f458",
   "metadata": {},
   "source": [
    "## Fair Dummies Training (Romano) "
   ]
  },
  {
   "cell_type": "markdown",
   "id": "a0c7e127-d566-462f-ac0f-b0871e7b3bd6",
   "metadata": {},
   "source": [
    "### Parameter Selection (From Romano paper)"
   ]
  },
  {
   "cell_type": "raw",
   "id": "59ae7e9f-3d4e-4b87-9a94-d51a7abbf1e6",
   "metadata": {},
   "source": [
    "test_methods +=  ['FairDummies']\n",
    "dataset_names += ['crimes']\n",
    "batch_size +=    [10000]\n",
    "lr +=            [0.01]\n",
    "steps +=         [80]\n",
    "mu_val +=        [0.7]\n",
    "second_scale +=  [1.0]\n",
    "epochs +=        [20]\n",
    "model_type +=    [\"linear_model\"]\n",
    "reg_type +=      [\"mreg\"]"
   ]
  },
  {
   "cell_type": "markdown",
   "id": "12d20294-c55e-48d2-9c06-c1ecf0aec466",
   "metadata": {},
   "source": [
    "### Fair Dummies LESS"
   ]
  },
  {
   "cell_type": "code",
   "execution_count": 20,
   "id": "f3bbf584-a0a2-4db7-af02-d482e47e4fe1",
   "metadata": {},
   "outputs": [
    {
     "name": "stderr",
     "output_type": "stream",
     "text": [
      "100%|██████████| 20/20 [09:41<00:00, 29.09s/it]\n"
     ]
    }
   ],
   "source": [
    "# Fair Dummies hyperparameters\n",
    "in_shape = X_train.shape[1] - 1\n",
    "batch_size = 10000\n",
    "lr_loss = 0.01\n",
    "lr_dis = 0.01\n",
    "loss_steps = 80\n",
    "dis_steps = 80\n",
    "mu_val = 0.7\n",
    "second_scale = 1\n",
    "epochs = 20\n",
    "cost_pred = torch.nn.MSELoss()\n",
    "model_type = \"linear_model\"\n",
    "\n",
    "# Fitting model\n",
    "loc_est = lambda: fair_dummies_learning.EquiRegLearner(\n",
    "    lr=lr_loss,\n",
    "    pretrain_pred_epochs=0,\n",
    "    pretrain_dis_epochs=0,\n",
    "    epochs=epochs,\n",
    "    loss_steps=loss_steps,\n",
    "    dis_steps=dis_steps,\n",
    "    cost_pred=cost_pred,\n",
    "    in_shape=in_shape,\n",
    "    batch_size=batch_size,\n",
    "    model_type=model_type,\n",
    "    lambda_vec=mu_val,\n",
    "    second_moment_scaling=second_scale,\n",
    "    out_shape=1,\n",
    ")\n",
    "\n",
    "LESS_model_equireg = LESSRegressor(\n",
    "    local_estimator=loc_est, frac=0.2, equireg=True, random_state=seed\n",
    ")\n",
    "\n",
    "LESS_model_equireg.fit(np.array(X_train), y_train)\n",
    "dummies_pred = LESS_model_equireg.predict(np.array(X_test))"
   ]
  },
  {
   "cell_type": "markdown",
   "id": "60edd916-20ba-457f-ba97-a549ca6ba3af",
   "metadata": {},
   "source": [
    "### Linear Regression Fair Dummies"
   ]
  },
  {
   "cell_type": "code",
   "execution_count": 21,
   "id": "b253c0e0-607b-4755-bc8f-0dd3e0b59f81",
   "metadata": {},
   "outputs": [],
   "source": [
    "FD_model = fair_dummies_learning.EquiRegLearner(\n",
    "    lr=lr_loss,\n",
    "    pretrain_pred_epochs=0,\n",
    "    pretrain_dis_epochs=0,\n",
    "    epochs=epochs,\n",
    "    loss_steps=loss_steps,\n",
    "    dis_steps=dis_steps,\n",
    "    cost_pred=cost_pred,\n",
    "    in_shape=in_shape,\n",
    "    batch_size=batch_size,\n",
    "    model_type=model_type,\n",
    "    lambda_vec=mu_val,\n",
    "    second_moment_scaling=second_scale,\n",
    "    out_shape=1,\n",
    ")\n",
    "\n",
    "FD_model.fit(np.array(X_train), y_train)\n",
    "Lin_reg_FD_pred = FD_model.predict(np.array(X_test))"
   ]
  },
  {
   "cell_type": "markdown",
   "id": "b7afdea7-6755-4c13-85ab-6dd18c060bed",
   "metadata": {},
   "source": [
    "### Uncorrelated Variables with Fair Dummies"
   ]
  },
  {
   "cell_type": "code",
   "execution_count": 22,
   "id": "dcca58a2-ae42-4414-b709-42617b4b42f1",
   "metadata": {},
   "outputs": [
    {
     "name": "stderr",
     "output_type": "stream",
     "text": [
      "100%|██████████| 20/20 [10:27<00:00, 31.35s/it]\n"
     ]
    }
   ],
   "source": [
    "LESS_model_equireg_uncorr = LESSRegressor(\n",
    "    local_estimator=loc_est, frac=0.2, equireg=True, random_state=seed\n",
    ")\n",
    "LESS_model_equireg_uncorr.fit(X_train_uncorr_wr, y_train)\n",
    "dummies_uncorr_pred = LESS_model_equireg_uncorr.predict(np.array(X_test))"
   ]
  },
  {
   "cell_type": "markdown",
   "id": "63f005ce-0d11-4866-959f-b9b9f1f50c31",
   "metadata": {},
   "source": [
    " ### Uncorrelated with Fair Dummies Linear Regression   "
   ]
  },
  {
   "cell_type": "code",
   "execution_count": 23,
   "id": "1f593079-3f5b-468b-9d40-6f34555be4ff",
   "metadata": {},
   "outputs": [],
   "source": [
    "FD_model_uncorr = fair_dummies_learning.EquiRegLearner(\n",
    "    lr=lr_loss,\n",
    "    pretrain_pred_epochs=0,\n",
    "    pretrain_dis_epochs=0,\n",
    "    epochs=epochs,\n",
    "    loss_steps=loss_steps,\n",
    "    dis_steps=dis_steps,\n",
    "    cost_pred=cost_pred,\n",
    "    in_shape=in_shape,\n",
    "    batch_size=batch_size,\n",
    "    model_type=model_type,\n",
    "    lambda_vec=mu_val,\n",
    "    second_moment_scaling=second_scale,\n",
    "    out_shape=1,\n",
    ")\n",
    "\n",
    "FD_model_uncorr.fit(np.array(X_train_uncorr_wr), y_train)\n",
    "Lin_reg_FD_uncorr_pred = FD_model_uncorr.predict(np.array(X_test))"
   ]
  },
  {
   "cell_type": "markdown",
   "id": "517e37cf-6f7f-4f6b-9fc2-d8b4f2e514f1",
   "metadata": {},
   "source": [
    "## Bounded Group Loss(Agarwal)"
   ]
  },
  {
   "cell_type": "markdown",
   "id": "e9a034ba-3c50-4d00-b7db-6073479fdb34",
   "metadata": {},
   "source": [
    "### Bounded group loss model"
   ]
  },
  {
   "cell_type": "code",
   "execution_count": 24,
   "id": "0fdab23c-730b-431c-a08d-6f684083ac3a",
   "metadata": {},
   "outputs": [],
   "source": [
    "# Defining bounded group loss constraint\n",
    "bgl1 = BoundedGroupLoss(SquareLoss(0, 1), upper_bound=0.05)\n",
    "\n",
    "# Fitting model\n",
    "reduction = GridSearch(LinearRegression(), constraints=bgl1, grid_size=100)\n",
    "reduction.fit(\n",
    "    X_train[X].drop(\"race_dummy\", axis=1),\n",
    "    y_train,\n",
    "    sensitive_features=X_train[\"race_dummy\"],\n",
    ")\n",
    "y_pred_BGL_only = reduction.predict(X_test[X].drop(\"race_dummy\", axis=1))"
   ]
  },
  {
   "cell_type": "markdown",
   "id": "878eb197-891c-47ff-8104-354ad3e56321",
   "metadata": {},
   "source": [
    "### LESS with BGL"
   ]
  },
  {
   "cell_type": "code",
   "execution_count": 25,
   "id": "4700ee1f-7e18-404c-ab7d-ad53134d06fc",
   "metadata": {},
   "outputs": [
    {
     "name": "stderr",
     "output_type": "stream",
     "text": [
      "100%|██████████| 20/20 [05:23<00:00, 16.15s/it]\n"
     ]
    }
   ],
   "source": [
    "df_predictions_LESS_BGL_tuned = pd.DataFrame(\n",
    "    {\"Actual\": y_test, \"Sensitive Attribute\": X_test[\"race_dummy\"],}\n",
    ")\n",
    "\n",
    "LESS_model_BGL_tuned = ls.LESSRegressor(frac=0.2, random_state=seed)\n",
    "LESS_model_BGL_tuned.fit(X_train, y_train, \"race_dummy\", gridsize=100)\n",
    "y_pred_BGL_LESS_tuned = LESS_model_BGL_tuned.predict(X_test)"
   ]
  },
  {
   "cell_type": "markdown",
   "id": "96decc23-fdaa-4671-a466-7b187d23709e",
   "metadata": {},
   "source": [
    "### Hyperparameter Tuning: Grid size and Upper bound"
   ]
  },
  {
   "cell_type": "code",
   "execution_count": 26,
   "id": "a2c6c916-a3bb-461b-97f5-098ad39722ee",
   "metadata": {},
   "outputs": [
    {
     "name": "stderr",
     "output_type": "stream",
     "text": [
      "100%|██████████| 20/20 [01:13<00:00,  3.66s/it]\n"
     ]
    },
    {
     "name": "stdout",
     "output_type": "stream",
     "text": [
      "Test error of LESS with gridsize 25: 0.1429\n",
      "Group RMSE ratio using LESS with gridsize 25: 1.5676\n",
      "Group ME Difference using LESS with gridsize 25: 0.0022\n"
     ]
    },
    {
     "name": "stderr",
     "output_type": "stream",
     "text": [
      "100%|██████████| 20/20 [02:16<00:00,  6.82s/it]\n"
     ]
    },
    {
     "name": "stdout",
     "output_type": "stream",
     "text": [
      "Test error of LESS with gridsize 50: 0.1428\n",
      "Group RMSE ratio using LESS with gridsize 50: 1.5676\n",
      "Group ME Difference using LESS with gridsize 50: 0.0031\n"
     ]
    },
    {
     "name": "stderr",
     "output_type": "stream",
     "text": [
      "100%|██████████| 20/20 [03:51<00:00, 11.59s/it]\n"
     ]
    },
    {
     "name": "stdout",
     "output_type": "stream",
     "text": [
      "Test error of LESS with gridsize 100: 0.1429\n",
      "Group RMSE ratio using LESS with gridsize 100: 1.5665\n",
      "Group ME Difference using LESS with gridsize 100: 0.0020\n"
     ]
    },
    {
     "name": "stderr",
     "output_type": "stream",
     "text": [
      "100%|██████████| 20/20 [07:57<00:00, 23.85s/it]\n"
     ]
    },
    {
     "name": "stdout",
     "output_type": "stream",
     "text": [
      "Test error of LESS with gridsize 200: 0.1428\n",
      "Group RMSE ratio using LESS with gridsize 200: 1.5672\n",
      "Group ME Difference using LESS with gridsize 200: 0.0021\n"
     ]
    },
    {
     "name": "stderr",
     "output_type": "stream",
     "text": [
      "100%|██████████| 20/20 [23:58<00:00, 71.93s/it]"
     ]
    },
    {
     "name": "stdout",
     "output_type": "stream",
     "text": [
      "Test error of LESS with gridsize 500: 0.1428\n",
      "Group RMSE ratio using LESS with gridsize 500: 1.5682\n",
      "Group ME Difference using LESS with gridsize 500: 0.0021\n"
     ]
    },
    {
     "name": "stderr",
     "output_type": "stream",
     "text": [
      "\n"
     ]
    }
   ],
   "source": [
    "# List of grid sizes to try\n",
    "gridsize = [25, 50, 100, 200, 500]\n",
    "df_predictions_gridsizes = pd.DataFrame(\n",
    "    {\"Actual\": y_test, \"Sensitive Attribute\": X_test[\"race_dummy\"],}\n",
    ")\n",
    "\n",
    "for g in gridsize:\n",
    "    LESS_model_BGL = ls.LESSRegressor(frac=0.2, random_state=seed)\n",
    "    LESS_model_BGL.fit(X_train, y_train, \"race_dummy\", gridsize=g)\n",
    "    y_pred_BGL_LESS = LESS_model_BGL.predict(X_test)\n",
    "\n",
    "    df_predictions_gridsizes[\"Predicted\"] = y_pred_BGL_LESS\n",
    "    df_predictions_gridsizes = df_predictions_gridsizes.reset_index(drop=True)\n",
    "    df_predictions_gridsizes_zero = df_predictions_gridsizes[\n",
    "        df_predictions_gridsizes[\"Sensitive Attribute\"] == 0\n",
    "    ]\n",
    "    df_predictions_gridsizes_one = df_predictions_gridsizes[\n",
    "        df_predictions_gridsizes[\"Sensitive Attribute\"] == 1\n",
    "    ]\n",
    "\n",
    "    print(\n",
    "        \"Test error of LESS with gridsize \"\n",
    "        + str(g)\n",
    "        + \": {0:.4f}\".format(\n",
    "            math.sqrt(\n",
    "                mean_squared_error(\n",
    "                    df_predictions_gridsizes[\"Predicted\"],\n",
    "                    df_predictions_gridsizes[\"Actual\"],\n",
    "                )\n",
    "            )\n",
    "        )\n",
    "    )\n",
    "    print(\n",
    "        \"Group RMSE ratio using LESS with gridsize \"\n",
    "        + str(g)\n",
    "        + \": {0:.4f}\".format(\n",
    "            math.sqrt(\n",
    "                mean_squared_error(\n",
    "                    df_predictions_gridsizes_one[\"Predicted\"],\n",
    "                    df_predictions_gridsizes_one[\"Actual\"],\n",
    "                )\n",
    "            )\n",
    "            / math.sqrt(\n",
    "                mean_squared_error(\n",
    "                    df_predictions_gridsizes_zero[\"Predicted\"],\n",
    "                    df_predictions_gridsizes_zero[\"Actual\"],\n",
    "                )\n",
    "            )\n",
    "        )\n",
    "    )\n",
    "    print(\n",
    "        \"Group ME Difference using LESS with gridsize \"\n",
    "        + str(g)\n",
    "        + \": {0:.4f}\".format(\n",
    "            (\n",
    "                df_predictions_gridsizes_one[\"Predicted\"]\n",
    "                - df_predictions_gridsizes_one[\"Actual\"]\n",
    "            ).mean()\n",
    "            - (\n",
    "                df_predictions_gridsizes_zero[\"Predicted\"]\n",
    "                - df_predictions_gridsizes_zero[\"Actual\"]\n",
    "            ).mean()\n",
    "        )\n",
    "    )"
   ]
  },
  {
   "cell_type": "markdown",
   "id": "74fba7d1-fafb-483f-afa6-ee7f94085557",
   "metadata": {},
   "source": [
    "### Bounded Group Loss with Uncorrelated variables"
   ]
  },
  {
   "cell_type": "code",
   "execution_count": 27,
   "id": "81a988f2-6e44-497e-ac4a-8939404945b9",
   "metadata": {},
   "outputs": [],
   "source": [
    "# Defining bounded group loss constraint\n",
    "bgl_uncorr = BoundedGroupLoss(SquareLoss(0, 1), upper_bound=0.05)\n",
    "\n",
    "# Fitting model\n",
    "reduction_uncorr = GridSearch(LinearRegression(), constraints=bgl_uncorr, grid_size=100)\n",
    "reduction_uncorr.fit(\n",
    "    X_train_uncorr, y_train, sensitive_features=X_train[\"race_dummy\"],\n",
    ")\n",
    "y_pred_BGL_uncorr = reduction_uncorr.predict(X_test[X].drop(\"race_dummy\", axis=1))"
   ]
  },
  {
   "cell_type": "markdown",
   "id": "d8886272-d889-4fe5-815a-27dc42a9566a",
   "metadata": {},
   "source": [
    "### LESS with Bounded Group Loss and Uncorrelated Variables"
   ]
  },
  {
   "cell_type": "code",
   "execution_count": null,
   "id": "68a61e98-c827-4771-9028-e202443dec33",
   "metadata": {},
   "outputs": [],
   "source": [
    "LESS_model_BGL_uncorr = ls.LESSRegressor(frac=0.2, random_state=seed)\n",
    "LESS_model_BGL_uncorr.fit(\n",
    "    pd.DataFrame(X_train_uncorr_wr, columns=X), y_train, \"race_dummy\", gridsize=100\n",
    ")\n",
    "y_pred_BGL_LESS_uncorr = LESS_model_BGL_uncorr.predict(X_test)"
   ]
  },
  {
   "cell_type": "markdown",
   "id": "2d98d053-9576-44e7-99ba-25f2b9d335a7",
   "metadata": {},
   "source": [
    "# Results and Plotting"
   ]
  },
  {
   "cell_type": "code",
   "execution_count": 29,
   "id": "b7b5bf59-09dc-4b4a-b5ba-f5ae5ff3395f",
   "metadata": {},
   "outputs": [
    {
     "data": {
      "text/html": [
       "<div>\n",
       "<style scoped>\n",
       "    .dataframe tbody tr th:only-of-type {\n",
       "        vertical-align: middle;\n",
       "    }\n",
       "\n",
       "    .dataframe tbody tr th {\n",
       "        vertical-align: top;\n",
       "    }\n",
       "\n",
       "    .dataframe thead th {\n",
       "        text-align: right;\n",
       "    }\n",
       "</style>\n",
       "<table border=\"1\" class=\"dataframe\">\n",
       "  <thead>\n",
       "    <tr style=\"text-align: right;\">\n",
       "      <th></th>\n",
       "      <th>Baseline_Less</th>\n",
       "      <th>Baseline_Lin_reg</th>\n",
       "      <th>Uncorrelated_LESS</th>\n",
       "      <th>Uncorrelated_Lin_Reg</th>\n",
       "      <th>Dummies_LESS</th>\n",
       "      <th>Dummies_Lin_Reg</th>\n",
       "      <th>BGL</th>\n",
       "      <th>BGL_LESS</th>\n",
       "      <th>BGL_uncorr</th>\n",
       "      <th>BGL_LESS_uncorr</th>\n",
       "      <th>Reweigh_LESS</th>\n",
       "      <th>Reweigh_Lin_Reg</th>\n",
       "      <th>FD_Uncorr_LESS</th>\n",
       "      <th>FD_Uncorr_Lin_Reg</th>\n",
       "      <th>Actual</th>\n",
       "      <th>Sensitive Attribute</th>\n",
       "    </tr>\n",
       "  </thead>\n",
       "  <tbody>\n",
       "    <tr>\n",
       "      <th>0</th>\n",
       "      <td>0.459774</td>\n",
       "      <td>0.465022</td>\n",
       "      <td>0.833434</td>\n",
       "      <td>0.834952</td>\n",
       "      <td>0.377431</td>\n",
       "      <td>0.356613</td>\n",
       "      <td>0.413318</td>\n",
       "      <td>0.455359</td>\n",
       "      <td>0.562392</td>\n",
       "      <td>0.695188</td>\n",
       "      <td>0.375587</td>\n",
       "      <td>0.235162</td>\n",
       "      <td>0.437784</td>\n",
       "      <td>0.426432</td>\n",
       "      <td>1.00</td>\n",
       "      <td>1</td>\n",
       "    </tr>\n",
       "    <tr>\n",
       "      <th>1</th>\n",
       "      <td>0.334271</td>\n",
       "      <td>0.314035</td>\n",
       "      <td>0.691878</td>\n",
       "      <td>0.683965</td>\n",
       "      <td>0.280868</td>\n",
       "      <td>0.205580</td>\n",
       "      <td>0.291722</td>\n",
       "      <td>0.316093</td>\n",
       "      <td>0.446950</td>\n",
       "      <td>0.690994</td>\n",
       "      <td>0.231732</td>\n",
       "      <td>0.100627</td>\n",
       "      <td>0.334457</td>\n",
       "      <td>0.320299</td>\n",
       "      <td>0.21</td>\n",
       "      <td>1</td>\n",
       "    </tr>\n",
       "    <tr>\n",
       "      <th>2</th>\n",
       "      <td>0.187803</td>\n",
       "      <td>0.183847</td>\n",
       "      <td>0.143685</td>\n",
       "      <td>0.140935</td>\n",
       "      <td>0.203980</td>\n",
       "      <td>0.220795</td>\n",
       "      <td>0.191099</td>\n",
       "      <td>0.183038</td>\n",
       "      <td>0.364007</td>\n",
       "      <td>0.172607</td>\n",
       "      <td>0.193459</td>\n",
       "      <td>0.206721</td>\n",
       "      <td>0.193295</td>\n",
       "      <td>0.201146</td>\n",
       "      <td>0.14</td>\n",
       "      <td>0</td>\n",
       "    </tr>\n",
       "    <tr>\n",
       "      <th>3</th>\n",
       "      <td>0.681806</td>\n",
       "      <td>0.660302</td>\n",
       "      <td>1.056860</td>\n",
       "      <td>1.030232</td>\n",
       "      <td>0.611475</td>\n",
       "      <td>0.526841</td>\n",
       "      <td>0.566095</td>\n",
       "      <td>0.595627</td>\n",
       "      <td>0.708927</td>\n",
       "      <td>0.850077</td>\n",
       "      <td>0.627927</td>\n",
       "      <td>0.452767</td>\n",
       "      <td>0.633649</td>\n",
       "      <td>0.569016</td>\n",
       "      <td>0.54</td>\n",
       "      <td>1</td>\n",
       "    </tr>\n",
       "    <tr>\n",
       "      <th>4</th>\n",
       "      <td>0.165586</td>\n",
       "      <td>0.141878</td>\n",
       "      <td>0.122134</td>\n",
       "      <td>0.098966</td>\n",
       "      <td>0.151871</td>\n",
       "      <td>0.141259</td>\n",
       "      <td>0.152224</td>\n",
       "      <td>0.132575</td>\n",
       "      <td>0.323030</td>\n",
       "      <td>0.120294</td>\n",
       "      <td>0.168118</td>\n",
       "      <td>0.173306</td>\n",
       "      <td>0.175653</td>\n",
       "      <td>0.174968</td>\n",
       "      <td>0.16</td>\n",
       "      <td>0</td>\n",
       "    </tr>\n",
       "  </tbody>\n",
       "</table>\n",
       "</div>"
      ],
      "text/plain": [
       "   Baseline_Less  Baseline_Lin_reg  Uncorrelated_LESS  Uncorrelated_Lin_Reg  \\\n",
       "0       0.459774          0.465022           0.833434              0.834952   \n",
       "1       0.334271          0.314035           0.691878              0.683965   \n",
       "2       0.187803          0.183847           0.143685              0.140935   \n",
       "3       0.681806          0.660302           1.056860              1.030232   \n",
       "4       0.165586          0.141878           0.122134              0.098966   \n",
       "\n",
       "   Dummies_LESS  Dummies_Lin_Reg       BGL  BGL_LESS  BGL_uncorr  \\\n",
       "0      0.377431         0.356613  0.413318  0.455359    0.562392   \n",
       "1      0.280868         0.205580  0.291722  0.316093    0.446950   \n",
       "2      0.203980         0.220795  0.191099  0.183038    0.364007   \n",
       "3      0.611475         0.526841  0.566095  0.595627    0.708927   \n",
       "4      0.151871         0.141259  0.152224  0.132575    0.323030   \n",
       "\n",
       "   BGL_LESS_uncorr  Reweigh_LESS  Reweigh_Lin_Reg  FD_Uncorr_LESS  \\\n",
       "0         0.695188      0.375587         0.235162        0.437784   \n",
       "1         0.690994      0.231732         0.100627        0.334457   \n",
       "2         0.172607      0.193459         0.206721        0.193295   \n",
       "3         0.850077      0.627927         0.452767        0.633649   \n",
       "4         0.120294      0.168118         0.173306        0.175653   \n",
       "\n",
       "   FD_Uncorr_Lin_Reg  Actual  Sensitive Attribute  \n",
       "0           0.426432    1.00                    1  \n",
       "1           0.320299    0.21                    1  \n",
       "2           0.201146    0.14                    0  \n",
       "3           0.569016    0.54                    1  \n",
       "4           0.174968    0.16                    0  "
      ]
     },
     "execution_count": 29,
     "metadata": {},
     "output_type": "execute_result"
    }
   ],
   "source": [
    "# Creating datafram of prediction series for each model\n",
    "df_predictions = pd.DataFrame(\n",
    "    {\n",
    "        \"Baseline_Less\": y_pred_baseline,\n",
    "        \"Baseline_Lin_reg\": y_linreg_baseline_pred,\n",
    "        \"Uncorrelated_LESS\": y_pred_uncorr_wr,\n",
    "        \"Uncorrelated_Lin_Reg\": y_linreg_uncorr_pred,\n",
    "        \"Dummies_LESS\": dummies_pred,\n",
    "        \"Dummies_Lin_Reg\": Lin_reg_FD_pred,\n",
    "        \"BGL\": y_pred_BGL_only,\n",
    "        \"BGL_LESS\": y_pred_BGL_LESS_tuned,\n",
    "        \"BGL_uncorr\": y_pred_BGL_uncorr,\n",
    "        \"BGL_LESS_uncorr\": y_pred_BGL_LESS_uncorr,\n",
    "        \"Reweigh_LESS\": y_pred_rw,\n",
    "        \"Reweigh_Lin_Reg\": y_linreg_pred_rw,\n",
    "        \"FD_Uncorr_LESS\": dummies_uncorr_pred,\n",
    "        \"FD_Uncorr_Lin_Reg\": Lin_reg_FD_uncorr_pred,\n",
    "        \"Actual\": y_test,\n",
    "        \"Sensitive Attribute\": X_test[\"race_dummy\"],\n",
    "    }\n",
    ")\n",
    "df_predictions = df_predictions.reset_index(drop=True)\n",
    "\n",
    "df_predictions.head()"
   ]
  },
  {
   "cell_type": "code",
   "execution_count": 30,
   "id": "08454791-79b9-4dee-8c63-a4c9800e842d",
   "metadata": {},
   "outputs": [],
   "source": [
    "# Splitting dataframe based on value of sensitive attribute\n",
    "df_predictions_zero = df_predictions[df_predictions[\"Sensitive Attribute\"] == 0]\n",
    "df_predictions_one = df_predictions[df_predictions[\"Sensitive Attribute\"] == 1]"
   ]
  },
  {
   "cell_type": "code",
   "execution_count": 31,
   "id": "9a7e554d-b052-4f99-9f27-a0ac0569c9a0",
   "metadata": {},
   "outputs": [
    {
     "data": {
      "text/html": [
       "<div>\n",
       "<style scoped>\n",
       "    .dataframe tbody tr th:only-of-type {\n",
       "        vertical-align: middle;\n",
       "    }\n",
       "\n",
       "    .dataframe tbody tr th {\n",
       "        vertical-align: top;\n",
       "    }\n",
       "\n",
       "    .dataframe thead th {\n",
       "        text-align: right;\n",
       "    }\n",
       "</style>\n",
       "<table border=\"1\" class=\"dataframe\">\n",
       "  <thead>\n",
       "    <tr style=\"text-align: right;\">\n",
       "      <th></th>\n",
       "      <th>Models</th>\n",
       "      <th>Mean Squared Error</th>\n",
       "      <th>Mean Errors difference between groups</th>\n",
       "      <th>Root-mean-squared error ratio between groups</th>\n",
       "      <th>Root Mean Squared Error</th>\n",
       "    </tr>\n",
       "  </thead>\n",
       "  <tbody>\n",
       "    <tr>\n",
       "      <th>0</th>\n",
       "      <td>Baseline_Less</td>\n",
       "      <td>0.019942</td>\n",
       "      <td>0.027038</td>\n",
       "      <td>1.631874</td>\n",
       "      <td>0.141216</td>\n",
       "    </tr>\n",
       "    <tr>\n",
       "      <th>1</th>\n",
       "      <td>Baseline_Lin_reg</td>\n",
       "      <td>0.020258</td>\n",
       "      <td>0.030985</td>\n",
       "      <td>1.598905</td>\n",
       "      <td>0.142329</td>\n",
       "    </tr>\n",
       "    <tr>\n",
       "      <th>2</th>\n",
       "      <td>Uncorrelated_LESS</td>\n",
       "      <td>0.038888</td>\n",
       "      <td>0.422352</td>\n",
       "      <td>3.304226</td>\n",
       "      <td>0.197201</td>\n",
       "    </tr>\n",
       "    <tr>\n",
       "      <th>3</th>\n",
       "      <td>Uncorrelated_Lin_Reg</td>\n",
       "      <td>0.041211</td>\n",
       "      <td>0.443827</td>\n",
       "      <td>3.377234</td>\n",
       "      <td>0.203004</td>\n",
       "    </tr>\n",
       "    <tr>\n",
       "      <th>4</th>\n",
       "      <td>Dummies_LESS</td>\n",
       "      <td>0.020323</td>\n",
       "      <td>-0.029655</td>\n",
       "      <td>1.584779</td>\n",
       "      <td>0.142557</td>\n",
       "    </tr>\n",
       "    <tr>\n",
       "      <th>5</th>\n",
       "      <td>Dummies_Lin_Reg</td>\n",
       "      <td>0.023776</td>\n",
       "      <td>-0.128736</td>\n",
       "      <td>1.741805</td>\n",
       "      <td>0.154195</td>\n",
       "    </tr>\n",
       "    <tr>\n",
       "      <th>6</th>\n",
       "      <td>BGL</td>\n",
       "      <td>0.022801</td>\n",
       "      <td>0.020859</td>\n",
       "      <td>1.530354</td>\n",
       "      <td>0.151000</td>\n",
       "    </tr>\n",
       "    <tr>\n",
       "      <th>7</th>\n",
       "      <td>BGL_LESS</td>\n",
       "      <td>0.020406</td>\n",
       "      <td>0.001996</td>\n",
       "      <td>1.566534</td>\n",
       "      <td>0.142850</td>\n",
       "    </tr>\n",
       "    <tr>\n",
       "      <th>8</th>\n",
       "      <td>BGL_uncorr</td>\n",
       "      <td>0.055889</td>\n",
       "      <td>-0.011143</td>\n",
       "      <td>1.185779</td>\n",
       "      <td>0.236409</td>\n",
       "    </tr>\n",
       "    <tr>\n",
       "      <th>9</th>\n",
       "      <td>BGL_LESS_uncorr</td>\n",
       "      <td>0.033031</td>\n",
       "      <td>0.331924</td>\n",
       "      <td>2.809482</td>\n",
       "      <td>0.181745</td>\n",
       "    </tr>\n",
       "    <tr>\n",
       "      <th>10</th>\n",
       "      <td>Reweigh_LESS</td>\n",
       "      <td>0.020598</td>\n",
       "      <td>-0.041470</td>\n",
       "      <td>1.573576</td>\n",
       "      <td>0.143521</td>\n",
       "    </tr>\n",
       "    <tr>\n",
       "      <th>11</th>\n",
       "      <td>Reweigh_Lin_Reg</td>\n",
       "      <td>0.024753</td>\n",
       "      <td>-0.181948</td>\n",
       "      <td>1.924633</td>\n",
       "      <td>0.157331</td>\n",
       "    </tr>\n",
       "    <tr>\n",
       "      <th>12</th>\n",
       "      <td>FD_Uncorr_LESS</td>\n",
       "      <td>0.020589</td>\n",
       "      <td>0.007611</td>\n",
       "      <td>1.615226</td>\n",
       "      <td>0.143487</td>\n",
       "    </tr>\n",
       "    <tr>\n",
       "      <th>13</th>\n",
       "      <td>FD_Uncorr_Lin_Reg</td>\n",
       "      <td>0.021453</td>\n",
       "      <td>-0.043317</td>\n",
       "      <td>1.625038</td>\n",
       "      <td>0.146469</td>\n",
       "    </tr>\n",
       "  </tbody>\n",
       "</table>\n",
       "</div>"
      ],
      "text/plain": [
       "                  Models  Mean Squared Error  \\\n",
       "0          Baseline_Less            0.019942   \n",
       "1       Baseline_Lin_reg            0.020258   \n",
       "2      Uncorrelated_LESS            0.038888   \n",
       "3   Uncorrelated_Lin_Reg            0.041211   \n",
       "4           Dummies_LESS            0.020323   \n",
       "5        Dummies_Lin_Reg            0.023776   \n",
       "6                    BGL            0.022801   \n",
       "7               BGL_LESS            0.020406   \n",
       "8             BGL_uncorr            0.055889   \n",
       "9        BGL_LESS_uncorr            0.033031   \n",
       "10          Reweigh_LESS            0.020598   \n",
       "11       Reweigh_Lin_Reg            0.024753   \n",
       "12        FD_Uncorr_LESS            0.020589   \n",
       "13     FD_Uncorr_Lin_Reg            0.021453   \n",
       "\n",
       "    Mean Errors difference between groups  \\\n",
       "0                                0.027038   \n",
       "1                                0.030985   \n",
       "2                                0.422352   \n",
       "3                                0.443827   \n",
       "4                               -0.029655   \n",
       "5                               -0.128736   \n",
       "6                                0.020859   \n",
       "7                                0.001996   \n",
       "8                               -0.011143   \n",
       "9                                0.331924   \n",
       "10                              -0.041470   \n",
       "11                              -0.181948   \n",
       "12                               0.007611   \n",
       "13                              -0.043317   \n",
       "\n",
       "    Root-mean-squared error ratio between groups  Root Mean Squared Error  \n",
       "0                                       1.631874                 0.141216  \n",
       "1                                       1.598905                 0.142329  \n",
       "2                                       3.304226                 0.197201  \n",
       "3                                       3.377234                 0.203004  \n",
       "4                                       1.584779                 0.142557  \n",
       "5                                       1.741805                 0.154195  \n",
       "6                                       1.530354                 0.151000  \n",
       "7                                       1.566534                 0.142850  \n",
       "8                                       1.185779                 0.236409  \n",
       "9                                       2.809482                 0.181745  \n",
       "10                                      1.573576                 0.143521  \n",
       "11                                      1.924633                 0.157331  \n",
       "12                                      1.615226                 0.143487  \n",
       "13                                      1.625038                 0.146469  "
      ]
     },
     "execution_count": 31,
     "metadata": {},
     "output_type": "execute_result"
    }
   ],
   "source": [
    "# Creating dataframe of accuracy and fairness score results for each model\n",
    "Results = pd.DataFrame()\n",
    "cols = df_predictions.columns\n",
    "cols = cols[:-2]\n",
    "MSE = []  # Mean squared error\n",
    "MED = []  # Mean error difference between groups\n",
    "RMSERBG = []  # Root mean squared error difference between groups\n",
    "\n",
    "for col in cols:\n",
    "    MSE.append(mean_squared_error(df_predictions[col], df_predictions[\"Actual\"]))\n",
    "    MED.append(\n",
    "        (df_predictions_one[col] - df_predictions_one[\"Actual\"]).mean()\n",
    "        - (df_predictions_zero[col] - df_predictions_zero[\"Actual\"]).mean()\n",
    "    )\n",
    "    RMSERBG.append(\n",
    "        math.sqrt(\n",
    "            mean_squared_error(df_predictions_one[col], df_predictions_one[\"Actual\"])\n",
    "        )\n",
    "        / math.sqrt(\n",
    "            mean_squared_error(df_predictions_zero[col], df_predictions_zero[\"Actual\"])\n",
    "        )\n",
    "    )\n",
    "\n",
    "Results = pd.DataFrame(\n",
    "    {\n",
    "        \"Models\": cols,\n",
    "        \"Mean Squared Error\": MSE,\n",
    "        \"Mean Errors difference between groups\": MED,\n",
    "        \"Root-mean-squared error ratio between groups\": RMSERBG,\n",
    "    }\n",
    ")\n",
    "\n",
    "Results[\"Root Mean Squared Error\"] = Results[\"Mean Squared Error\"].apply(\n",
    "    lambda x: math.sqrt(x)\n",
    ")\n",
    "Results"
   ]
  },
  {
   "cell_type": "markdown",
   "id": "763cdf65-035c-46d6-8701-4b762699f728",
   "metadata": {},
   "source": [
    "## Boxplots of group-specific prediction errors for each model"
   ]
  },
  {
   "cell_type": "code",
   "execution_count": 32,
   "id": "84f8c920-77a1-48bd-9503-55d5e5629aaa",
   "metadata": {},
   "outputs": [
    {
     "data": {
      "image/png": "[encoded data removed]",
      "text/plain": [
       "<Figure size 432x288 with 1 Axes>"
      ]
     },
     "metadata": {
      "needs_background": "light"
     },
     "output_type": "display_data"
    },
    {
     "data": {
      "image/png": "[encoded data removed]",
      "text/plain": [
       "<Figure size 432x288 with 1 Axes>"
      ]
     },
     "metadata": {
      "needs_background": "light"
     },
     "output_type": "display_data"
    },
    {
     "data": {
      "image/png": "[encoded data removed]",
      "text/plain": [
       "<Figure size 432x288 with 1 Axes>"
      ]
     },
     "metadata": {
      "needs_background": "light"
     },
     "output_type": "display_data"
    },
    {
     "data": {
      "image/png": "[encoded data removed]",
      "text/plain": [
       "<Figure size 432x288 with 1 Axes>"
      ]
     },
     "metadata": {
      "needs_background": "light"
     },
     "output_type": "display_data"
    },
    {
     "data": {
      "image/png": "[encoded data removed]",
      "text/plain": [
       "<Figure size 432x288 with 1 Axes>"
      ]
     },
     "metadata": {
      "needs_background": "light"
     },
     "output_type": "display_data"
    },
    {
     "data": {
      "image/png": "[encoded data removed]",
      "text/plain": [
       "<Figure size 432x288 with 1 Axes>"
      ]
     },
     "metadata": {
      "needs_background": "light"
     },
     "output_type": "display_data"
    },
    {
     "data": {
      "image/png": "[encoded data removed]",
      "text/plain": [
       "<Figure size 432x288 with 1 Axes>"
      ]
     },
     "metadata": {
      "needs_background": "light"
     },
     "output_type": "display_data"
    },
    {
     "data": {
      "image/png": "[encoded data removed]",
      "text/plain": [
       "<Figure size 432x288 with 1 Axes>"
      ]
     },
     "metadata": {
      "needs_background": "light"
     },
     "output_type": "display_data"
    },
    {
     "data": {
      "image/png": "[encoded data removed]",
      "text/plain": [
       "<Figure size 432x288 with 1 Axes>"
      ]
     },
     "metadata": {
      "needs_background": "light"
     },
     "output_type": "display_data"
    },
    {
     "data": {
      "image/png": "[encoded data removed]",
      "text/plain": [
       "<Figure size 432x288 with 1 Axes>"
      ]
     },
     "metadata": {
      "needs_background": "light"
     },
     "output_type": "display_data"
    },
    {
     "data": {
      "image/png": "[encoded data removed]",
      "text/plain": [
       "<Figure size 432x288 with 1 Axes>"
      ]
     },
     "metadata": {
      "needs_background": "light"
     },
     "output_type": "display_data"
    },
    {
     "data": {
      "image/png": "[encoded data removed]",
      "text/plain": [
       "<Figure size 432x288 with 1 Axes>"
      ]
     },
     "metadata": {
      "needs_background": "light"
     },
     "output_type": "display_data"
    },
    {
     "data": {
      "image/png": "[encoded data removed]",
      "text/plain": [
       "<Figure size 432x288 with 1 Axes>"
      ]
     },
     "metadata": {
      "needs_background": "light"
     },
     "output_type": "display_data"
    },
    {
     "data": {
      "image/png": "[encoded data removed]",
      "text/plain": [
       "<Figure size 432x288 with 1 Axes>"
      ]
     },
     "metadata": {
      "needs_background": "light"
     },
     "output_type": "display_data"
    }
   ],
   "source": [
    "list_cols = list(cols)\n",
    "for col in list_cols:\n",
    "    fig7, ax7 = plt.subplots()\n",
    "    ax7.boxplot(\n",
    "        [\n",
    "            (df_predictions_zero[col] - df_predictions_zero[\"Actual\"]),\n",
    "            (df_predictions_one[col] - df_predictions_one[\"Actual\"]),\n",
    "        ]\n",
    "    )\n",
    "    plt.show()"
   ]
  },
  {
   "cell_type": "markdown",
   "id": "0f5158f4-091c-4956-95ad-e821aae3b6a0",
   "metadata": {},
   "source": [
    "## Visualising the fairness-accuracy tradeoff"
   ]
  },
  {
   "cell_type": "code",
   "execution_count": 33,
   "id": "e53afcfb-c442-41a4-a59f-ee7ce6c320ad",
   "metadata": {},
   "outputs": [
    {
     "data": {
      "image/png": "[encoded data removed]",
      "text/plain": [
       "<Figure size 432x288 with 1 Axes>"
      ]
     },
     "metadata": {
      "needs_background": "light"
     },
     "output_type": "display_data"
    }
   ],
   "source": [
    "sns.scatterplot(\n",
    "    data=Results,\n",
    "    x=\"Root Mean Squared Error\",\n",
    "    y=\"Mean Errors difference between groups\",\n",
    "    hue=\"Models\",\n",
    ")\n",
    "plt.legend(bbox_to_anchor=(1.05, 1), loc=\"upper left\", borderaxespad=0)\n",
    "plt.xlabel(\"RMSE\")\n",
    "plt.ylabel(\"FS1\")\n",
    "lgd = plt.legend(bbox_to_anchor=(1.05, 1), loc=\"upper left\", borderaxespad=0)\n",
    "plt.savefig(\"FS1_tradeoff_CC.jpg\", bbox_extra_artists=(lgd,), bbox_inches=\"tight\")"
   ]
  },
  {
   "cell_type": "code",
   "execution_count": 34,
   "id": "0cb1700a-6da7-4b45-8cd6-94b0a6f93999",
   "metadata": {},
   "outputs": [
    {
     "data": {
      "image/png": "[encoded data removed]",
      "text/plain": [
       "<Figure size 432x288 with 1 Axes>"
      ]
     },
     "metadata": {
      "needs_background": "light"
     },
     "output_type": "display_data"
    }
   ],
   "source": [
    "sns.scatterplot(\n",
    "    data=Results,\n",
    "    x=\"Root Mean Squared Error\",\n",
    "    y=\"Root-mean-squared error ratio between groups\",\n",
    "    hue=\"Models\",\n",
    ")\n",
    "plt.legend(bbox_to_anchor=(1.05, 1), loc=\"upper left\", borderaxespad=0)\n",
    "plt.xlabel(\"RMSE\")\n",
    "plt.ylabel(\"FS2\")\n",
    "lgd = plt.legend(bbox_to_anchor=(1.05, 1), loc=\"upper left\", borderaxespad=0)\n",
    "plt.savefig(\"FS2_tradeoff_CC.jpg\", bbox_extra_artists=(lgd,), bbox_inches=\"tight\")"
   ]
  }
 ],
 "metadata": {
  "interpreter": {
   "hash": "b62fa8f4c5de154f2c894fe9e1279e2fefa58b710787016fbf60516d58786645"
  },
  "kernelspec": {
   "display_name": "Python 3 (ipykernel)",
   "language": "python",
   "name": "python3"
  },
  "language_info": {
   "codemirror_mode": {
    "name": "ipython",
    "version": 3
   },
   "file_extension": ".py",
   "mimetype": "text/x-python",
   "name": "python",
   "nbconvert_exporter": "python",
   "pygments_lexer": "ipython3",
   "version": "3.9.7"
  }
 },
 "nbformat": 4,
 "nbformat_minor": 5
}
